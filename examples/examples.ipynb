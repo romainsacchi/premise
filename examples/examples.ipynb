{
 "cells": [
  {
   "cell_type": "markdown",
   "metadata": {},
   "source": [
    "# Use examples of [premise](https://github.com/romainsacchi/premise)\n",
    "\n",
    "Author: [romainsacchi](https://github.com/romainsacchi)\n",
    "\n",
    "This notebook shows examples on how to use `premise` to create life cycle invneotries databases for prospective environmental impact assessment.\n",
    "\n",
    "This library extract useful information from IAM model output files (such as those of REMIND or IMAGE) and aligns inventories in the ecoinvent database accordingly.\n",
    "\n",
    "Additional documentation on the moethodology is available [here](https://premise.readthedocs.io/en/latest/introduction.html).\n",
    "\n",
    "## Requirements\n",
    "\n",
    "* Pyhton 3.7 or above\n",
    "* a user license for ecoinvent v.3"
   ]
  },
  {
   "cell_type": "markdown",
   "metadata": {},
   "source": [
    "# Use case with [brightway2](https://brightway.dev/)\n",
    "\n",
    "`brightway2` is an open source LCA framework for Python.\n",
    "To use `premise` from `brightway2`, it requires that you have a open `brightway2` project with abiosphere as well as an\n",
    "ecoinvent v.3 database registered in that project."
   ]
  },
  {
   "cell_type": "code",
   "execution_count": 1,
   "metadata": {},
   "outputs": [
    {
     "name": "stderr",
     "output_type": "stream",
     "text": [
      "C:\\Users\\sacchi_r\\AppData\\Local\\Continuum\\miniconda3\\envs\\coarse\\lib\\site-packages\\constructive_geometries\\cg.py:77: FionaDeprecationWarning: Use fiona.Env() instead.\n",
      "  with fiona.drivers():\n"
     ]
    }
   ],
   "source": [
    "from premise import *\n",
    "import brightway2 as bw"
   ]
  },
  {
   "cell_type": "code",
   "execution_count": 2,
   "metadata": {},
   "outputs": [],
   "source": [
    "bw.projects.set_current(\"import_36_for_carculator\")"
   ]
  },
  {
   "cell_type": "code",
   "execution_count": 6,
   "metadata": {},
   "outputs": [
    {
     "data": {
      "text/plain": [
       "Databases dictionary with 7 object(s):\n",
       "\tbiosphere3\n",
       "\tecoinvent 3.5 cutoff\n",
       "\tecoinvent 3.6 cutoff\n",
       "\tecoinvent 3.7 cutoff\n",
       "\tecoinvent_remind_Budg1100_ConvSyn_2030\n",
       "\tecoinvent_remind_Budg1100_ConvSyn_2040\n",
       "\tecoinvent_remind_Budg1100_ConvSyn_2045"
      ]
     },
     "execution_count": 6,
     "metadata": {},
     "output_type": "execute_result"
    }
   ],
   "source": [
    "bw.databases"
   ]
  },
  {
   "cell_type": "markdown",
   "metadata": {},
   "source": [
    "### List of available scenarios\n",
    "\n",
    "Some scenarios come installed with the library.\n",
    "They are stored in `data/iam_ouput_files` from the root directory.\n",
    "They are all within the SSP2 narrative (middle of the road).\n",
    "\n",
    "With REMIND:\n",
    "* \"Base\"\n",
    "* \"NPi\"\n",
    "* \"NDC\"\n",
    "* \"PkBudg1300\"\n",
    "* \"PkBudg1100\"\n",
    "* \"PkBudg900\"\n",
    "\n",
    "With IMAGE:\n",
    "* \"Base\"\n"
   ]
  },
  {
   "cell_type": "markdown",
   "metadata": {},
   "source": [
    "### Database creation from default scenarios\n",
    "\n",
    "To create a database using REMIND's SSP2 Base scenario, from ecoinvent 3.6 for the year 2028, one would execute the following cell.\n",
    "This leads to the extraction of the database, some cleanup as well as importing a few additional inventories."
   ]
  },
  {
   "cell_type": "code",
   "execution_count": 4,
   "metadata": {},
   "outputs": [
    {
     "name": "stdout",
     "output_type": "stream",
     "text": [
      "\n",
      "////////////////////// EXTRACTING SOURCE DATABASE ///////////////////////\n",
      "Getting activity data\n"
     ]
    },
    {
     "name": "stderr",
     "output_type": "stream",
     "text": [
      "100%|█████████████████████████████████| 18121/18121 [00:00<00:00, 55058.84it/s]\n"
     ]
    },
    {
     "name": "stdout",
     "output_type": "stream",
     "text": [
      "Adding exchange data to activities\n"
     ]
    },
    {
     "name": "stderr",
     "output_type": "stream",
     "text": [
      "100%|███████████████████████████████| 615644/615644 [00:49<00:00, 12354.07it/s]\n"
     ]
    },
    {
     "name": "stdout",
     "output_type": "stream",
     "text": [
      "Filling out exchange data\n"
     ]
    },
    {
     "name": "stderr",
     "output_type": "stream",
     "text": [
      "100%|██████████████████████████████████| 18121/18121 [00:05<00:00, 3433.36it/s]\n"
     ]
    },
    {
     "name": "stdout",
     "output_type": "stream",
     "text": [
      "Set missing location of datasets to global scope.\n",
      "Set missing location of production exchanges to scope of dataset.\n",
      "Correct missing location of technosphere exchanges.\n",
      "Remove empty exchanges.\n",
      "\n",
      "/////////////////// IMPORTING ADDITIONAL INVENTORIES ////////////////////\n",
      "Extracted 1 worksheets in 0.19 seconds\n",
      "Extracted 1 worksheets in 0.14 seconds\n",
      "Applying strategy: migrate_datasets\n",
      "Applying strategy: migrate_exchanges\n",
      "Extracted 1 worksheets in 0.02 seconds\n",
      "Extracted 1 worksheets in 0.02 seconds\n",
      "Applying strategy: migrate_datasets\n",
      "Applying strategy: migrate_exchanges\n",
      "Extracted 1 worksheets in 0.01 seconds\n",
      "Extracted 1 worksheets in 0.01 seconds\n",
      "Applying strategy: migrate_datasets\n",
      "Applying strategy: migrate_exchanges\n",
      "Add fossil carbon dioxide storage for CCS technologies.\n",
      "Extracted 1 worksheets in 0.01 seconds\n",
      "Extracted 1 worksheets in 0.01 seconds\n",
      "Extracted 1 worksheets in 0.02 seconds\n",
      "Extracted 1 worksheets in 0.02 seconds\n",
      "Extracted 1 worksheets in 0.01 seconds\n",
      "Extracted 1 worksheets in 0.01 seconds\n",
      "Extracted 1 worksheets in 0.02 seconds\n",
      "Extracted 1 worksheets in 0.02 seconds\n",
      "Extracted 1 worksheets in 0.01 seconds\n",
      "Extracted 1 worksheets in 0.01 seconds\n",
      "Extracted 1 worksheets in 0.01 seconds\n",
      "Extracted 1 worksheets in 0.02 seconds\n",
      "Extracted 1 worksheets in 0.02 seconds\n",
      "Extracted 1 worksheets in 0.02 seconds\n",
      "Applying strategy: migrate_datasets\n",
      "Applying strategy: migrate_exchanges\n",
      "Extracted 1 worksheets in 0.04 seconds\n",
      "Extracted 1 worksheets in 0.04 seconds\n",
      "Extracted 1 worksheets in 0.01 seconds\n",
      "Extracted 1 worksheets in 0.01 seconds\n",
      "Extracted 1 worksheets in 0.02 seconds\n",
      "Extracted 1 worksheets in 0.03 seconds\n",
      "Extracted 1 worksheets in 0.01 seconds\n",
      "Extracted 1 worksheets in 0.01 seconds\n",
      "Extracted 1 worksheets in 0.04 seconds\n",
      "Extracted 1 worksheets in 0.04 seconds\n",
      "Extracted 1 worksheets in 0.02 seconds\n",
      "Extracted 1 worksheets in 0.02 seconds\n"
     ]
    }
   ],
   "source": [
    "ndb = NewDatabase(\n",
    "            model=\"remind\", # <-- name of the IAM model. Can be ´remind´ or ´image´.\n",
    "            scenario=\"SSP2-Base\", # <-- name of the scenario\n",
    "            year=2028, # <-- year. Must be between 2005 and 2100.\n",
    "            source_db=\"ecoinvent 3.6 cutoff\", # <-- name of the database. Must be a string.\n",
    "            source_version=3.6, # <-- version of ecoinvent. Can be 3.5, 3.6 or 3.7\n",
    "                 )"
   ]
  },
  {
   "cell_type": "markdown",
   "metadata": {},
   "source": [
    "or here with ecoinvent 3.7"
   ]
  },
  {
   "cell_type": "code",
   "execution_count": 4,
   "metadata": {},
   "outputs": [
    {
     "name": "stdout",
     "output_type": "stream",
     "text": [
      "\n",
      "////////////////////// EXTRACTING SOURCE DATABASE ///////////////////////\n",
      "Getting activity data\n"
     ]
    },
    {
     "name": "stderr",
     "output_type": "stream",
     "text": [
      "100%|████████████████████████████████| 19128/19128 [00:00<00:00, 110822.23it/s]\n"
     ]
    },
    {
     "name": "stdout",
     "output_type": "stream",
     "text": [
      "Adding exchange data to activities\n"
     ]
    },
    {
     "name": "stderr",
     "output_type": "stream",
     "text": [
      "100%|███████████████████████████████| 621717/621717 [00:43<00:00, 14329.98it/s]\n"
     ]
    },
    {
     "name": "stdout",
     "output_type": "stream",
     "text": [
      "Filling out exchange data\n"
     ]
    },
    {
     "name": "stderr",
     "output_type": "stream",
     "text": [
      "100%|██████████████████████████████████| 19128/19128 [00:03<00:00, 5199.63it/s]\n"
     ]
    },
    {
     "name": "stdout",
     "output_type": "stream",
     "text": [
      "Set missing location of datasets to global scope.\n",
      "Set missing location of production exchanges to scope of dataset.\n",
      "Correct missing location of technosphere exchanges.\n",
      "Remove empty exchanges.\n",
      "\n",
      "/////////////////// IMPORTING ADDITIONAL INVENTORIES ////////////////////\n",
      "Extracted 1 worksheets in 0.16 seconds\n",
      "Extracted 1 worksheets in 0.14 seconds\n",
      "Applying strategy: migrate_datasets\n",
      "Applying strategy: migrate_exchanges\n",
      "Add fossil carbon dioxide storage for CCS technologies.\n",
      "Extracted 1 worksheets in 0.03 seconds\n",
      "Extracted 1 worksheets in 0.01 seconds\n",
      "Applying strategy: migrate_datasets\n",
      "Applying strategy: migrate_exchanges\n",
      "Add fossil carbon dioxide storage for CCS technologies.\n",
      "Extracted 1 worksheets in 0.01 seconds\n",
      "Extracted 1 worksheets in 0.01 seconds\n",
      "Applying strategy: migrate_datasets\n",
      "Applying strategy: migrate_exchanges\n",
      "Extracted 1 worksheets in 0.02 seconds\n",
      "Extracted 1 worksheets in 0.02 seconds\n",
      "Applying strategy: migrate_datasets\n",
      "Applying strategy: migrate_exchanges\n",
      "Extracted 1 worksheets in 0.01 seconds\n",
      "Extracted 1 worksheets in 0.01 seconds\n",
      "Applying strategy: migrate_datasets\n",
      "Applying strategy: migrate_exchanges\n",
      "Extracted 1 worksheets in 0.02 seconds\n",
      "Extracted 1 worksheets in 0.02 seconds\n",
      "Applying strategy: migrate_datasets\n",
      "Applying strategy: migrate_exchanges\n",
      "Extracted 1 worksheets in 0.01 seconds\n",
      "Extracted 1 worksheets in 0.02 seconds\n",
      "Applying strategy: migrate_datasets\n",
      "Applying strategy: migrate_exchanges\n",
      "Extracted 1 worksheets in 0.03 seconds\n",
      "Extracted 1 worksheets in 0.03 seconds\n",
      "Applying strategy: migrate_datasets\n",
      "Applying strategy: migrate_exchanges\n",
      "Extracted 1 worksheets in 0.02 seconds\n",
      "Extracted 1 worksheets in 0.03 seconds\n",
      "Applying strategy: migrate_datasets\n",
      "Applying strategy: migrate_exchanges\n",
      "Extracted 1 worksheets in 0.01 seconds\n",
      "Extracted 1 worksheets in 0.02 seconds\n",
      "Applying strategy: migrate_datasets\n",
      "Applying strategy: migrate_exchanges\n",
      "Extracted 1 worksheets in 0.11 seconds\n",
      "Extracted 1 worksheets in 0.01 seconds\n",
      "Applying strategy: migrate_datasets\n",
      "Applying strategy: migrate_exchanges\n",
      "Extracted 1 worksheets in 0.02 seconds\n",
      "Extracted 1 worksheets in 0.03 seconds\n",
      "Applying strategy: migrate_datasets\n",
      "Applying strategy: migrate_exchanges\n",
      "Extracted 1 worksheets in 0.01 seconds\n",
      "Extracted 1 worksheets in 0.01 seconds\n",
      "Applying strategy: migrate_datasets\n",
      "Applying strategy: migrate_exchanges\n",
      "Extracted 1 worksheets in 0.01 seconds\n",
      "Extracted 1 worksheets in 0.01 seconds\n",
      "Applying strategy: migrate_datasets\n",
      "Applying strategy: migrate_exchanges\n",
      "Extracted 1 worksheets in 0.02 seconds\n",
      "Extracted 1 worksheets in 0.02 seconds\n",
      "Applying strategy: migrate_datasets\n",
      "Applying strategy: migrate_exchanges\n"
     ]
    }
   ],
   "source": [
    "ndb = NewDatabase(\n",
    "        model=\"remind\",\n",
    "        scenario=\"SSP2-Base\",\n",
    "        year=2028,\n",
    "        source_db=\"ecoinvent 3.7 cutoff\", # <-- this is NEW.\n",
    "        source_version=3.7, # <-- this is NEW\n",
    "                 )"
   ]
  },
  {
   "cell_type": "markdown",
   "metadata": {},
   "source": [
    "### Database creation from non-default scenarios\n",
    "\n",
    "If you have some specific IAM scenarios you would like to build a database from, you can specify the directory to those.\n",
    "\n",
    "**Important remark**: the name of your scenario file must start with \"remind_\" or \"image_\". For example: \"remind_my_special_scenario.mif\"."
   ]
  },
  {
   "cell_type": "code",
   "execution_count": 5,
   "metadata": {},
   "outputs": [
    {
     "name": "stdout",
     "output_type": "stream",
     "text": [
      "\n",
      "////////////////////// EXTRACTING SOURCE DATABASE ///////////////////////\n",
      "Getting activity data\n"
     ]
    },
    {
     "name": "stderr",
     "output_type": "stream",
     "text": [
      "100%|████████████████████████████████| 18121/18121 [00:00<00:00, 105026.84it/s]\n"
     ]
    },
    {
     "name": "stdout",
     "output_type": "stream",
     "text": [
      "Adding exchange data to activities\n"
     ]
    },
    {
     "name": "stderr",
     "output_type": "stream",
     "text": [
      "100%|███████████████████████████████| 615644/615644 [00:56<00:00, 10803.39it/s]\n"
     ]
    },
    {
     "name": "stdout",
     "output_type": "stream",
     "text": [
      "Filling out exchange data\n"
     ]
    },
    {
     "name": "stderr",
     "output_type": "stream",
     "text": [
      "100%|██████████████████████████████████| 18121/18121 [00:03<00:00, 5196.16it/s]\n"
     ]
    },
    {
     "name": "stdout",
     "output_type": "stream",
     "text": [
      "Set missing location of datasets to global scope.\n",
      "Set missing location of production exchanges to scope of dataset.\n",
      "Correct missing location of technosphere exchanges.\n",
      "Remove empty exchanges.\n",
      "\n",
      "/////////////////// IMPORTING ADDITIONAL INVENTORIES ////////////////////\n",
      "Extracted 1 worksheets in 0.15 seconds\n",
      "Extracted 1 worksheets in 0.13 seconds\n",
      "Applying strategy: migrate_datasets\n",
      "Applying strategy: migrate_exchanges\n",
      "Add fossil carbon dioxide storage for CCS technologies.\n",
      "Extracted 1 worksheets in 0.02 seconds\n",
      "Extracted 1 worksheets in 0.01 seconds\n",
      "Applying strategy: migrate_datasets\n",
      "Applying strategy: migrate_exchanges\n",
      "Add fossil carbon dioxide storage for CCS technologies.\n",
      "Extracted 1 worksheets in 0.01 seconds\n",
      "Extracted 1 worksheets in 0.01 seconds\n",
      "Extracted 1 worksheets in 0.02 seconds\n",
      "Extracted 1 worksheets in 0.02 seconds\n",
      "Extracted 1 worksheets in 0.01 seconds\n",
      "Extracted 1 worksheets in 0.01 seconds\n",
      "Extracted 1 worksheets in 0.02 seconds\n",
      "Extracted 1 worksheets in 0.02 seconds\n",
      "Extracted 1 worksheets in 0.01 seconds\n",
      "Extracted 1 worksheets in 0.01 seconds\n",
      "Extracted 1 worksheets in 0.02 seconds\n",
      "Extracted 1 worksheets in 0.01 seconds\n",
      "Extracted 1 worksheets in 0.02 seconds\n",
      "Extracted 1 worksheets in 0.02 seconds\n",
      "Applying strategy: migrate_datasets\n",
      "Applying strategy: migrate_exchanges\n",
      "Extracted 1 worksheets in 0.01 seconds\n",
      "Extracted 1 worksheets in 0.01 seconds\n",
      "Extracted 1 worksheets in 0.01 seconds\n",
      "Extracted 1 worksheets in 0.01 seconds\n",
      "Extracted 1 worksheets in 0.02 seconds\n",
      "Extracted 1 worksheets in 0.02 seconds\n",
      "Extracted 1 worksheets in 0.01 seconds\n",
      "Extracted 1 worksheets in 0.01 seconds\n",
      "Extracted 1 worksheets in 0.01 seconds\n",
      "Extracted 1 worksheets in 0.01 seconds\n",
      "Extracted 1 worksheets in 0.02 seconds\n",
      "Extracted 1 worksheets in 0.02 seconds\n"
     ]
    }
   ],
   "source": [
    "ndb = NewDatabase(\n",
    "            model=\"remind\", # <-- name of the IAM model. can be ´remind´ or ´image´\n",
    "            scenario=\"my_special_scenario\", # <-- name of the scenario\n",
    "            year=2028, # <-- year\n",
    "            source_db=\"ecoinvent 3.6 cutoff\", # <-- name of the database\n",
    "            source_version=3.6, # <-- version of ecoinvent\n",
    "            filepath_to_iam_files=r\"C:\\Users\\sacchi_r\\Downloads\\REMIND\" # <-- directory of specific IAM scenario files\n",
    "                 )"
   ]
  },
  {
   "cell_type": "markdown",
   "metadata": {},
   "source": [
    "#### Additional options for database creation\n",
    "\n",
    "By default, inventories for passenger cars and trucks are not added upon the creation of the database.\n",
    "But you can add them by specifying `add_passenger_cars = True` and `add_trucks = True`. This will create invenotries for passenger cars and trucks for each region of the IAM model."
   ]
  },
  {
   "cell_type": "code",
   "execution_count": 3,
   "metadata": {},
   "outputs": [
    {
     "name": "stdout",
     "output_type": "stream",
     "text": [
      "\n",
      "////////////////////// EXTRACTING SOURCE DATABASE ///////////////////////\n",
      "Getting activity data\n"
     ]
    },
    {
     "name": "stderr",
     "output_type": "stream",
     "text": [
      "100%|████████████████████████████████| 18121/18121 [00:00<00:00, 124399.50it/s]\n"
     ]
    },
    {
     "name": "stdout",
     "output_type": "stream",
     "text": [
      "Adding exchange data to activities\n"
     ]
    },
    {
     "name": "stderr",
     "output_type": "stream",
     "text": [
      "100%|███████████████████████████████| 615644/615644 [00:35<00:00, 17575.09it/s]\n"
     ]
    },
    {
     "name": "stdout",
     "output_type": "stream",
     "text": [
      "Filling out exchange data\n"
     ]
    },
    {
     "name": "stderr",
     "output_type": "stream",
     "text": [
      "100%|██████████████████████████████████| 18121/18121 [00:02<00:00, 6634.67it/s]\n"
     ]
    },
    {
     "name": "stdout",
     "output_type": "stream",
     "text": [
      "Set missing location of datasets to global scope.\n",
      "Set missing location of production exchanges to scope of dataset.\n",
      "Correct missing location of technosphere exchanges.\n",
      "Remove empty exchanges.\n",
      "\n",
      "/////////////////// IMPORTING ADDITIONAL INVENTORIES ////////////////////\n",
      "Extracted 1 worksheets in 0.14 seconds\n",
      "Extracted 1 worksheets in 0.12 seconds\n",
      "Applying strategy: migrate_datasets\n",
      "Applying strategy: migrate_exchanges\n",
      "Add fossil carbon dioxide storage for CCS technologies.\n",
      "Extracted 1 worksheets in 0.01 seconds\n",
      "Extracted 1 worksheets in 0.01 seconds\n",
      "Applying strategy: migrate_datasets\n",
      "Applying strategy: migrate_exchanges\n",
      "Add fossil carbon dioxide storage for CCS technologies.\n",
      "Extracted 1 worksheets in 0.01 seconds\n",
      "Extracted 1 worksheets in 0.01 seconds\n",
      "Extracted 1 worksheets in 0.02 seconds\n",
      "Extracted 1 worksheets in 0.02 seconds\n",
      "Extracted 1 worksheets in 0.01 seconds\n",
      "Extracted 1 worksheets in 0.01 seconds\n",
      "Extracted 1 worksheets in 0.03 seconds\n",
      "Extracted 1 worksheets in 0.02 seconds\n",
      "Extracted 1 worksheets in 0.01 seconds\n",
      "Extracted 1 worksheets in 0.01 seconds\n",
      "Extracted 1 worksheets in 0.02 seconds\n",
      "Extracted 1 worksheets in 0.02 seconds\n",
      "Extracted 1 worksheets in 0.02 seconds\n",
      "Extracted 1 worksheets in 0.02 seconds\n",
      "Applying strategy: migrate_datasets\n",
      "Applying strategy: migrate_exchanges\n",
      "Extracted 1 worksheets in 0.02 seconds\n",
      "Extracted 1 worksheets in 0.01 seconds\n",
      "Extracted 1 worksheets in 0.01 seconds\n",
      "Extracted 1 worksheets in 0.01 seconds\n",
      "Extracted 1 worksheets in 0.03 seconds\n",
      "Extracted 1 worksheets in 0.02 seconds\n",
      "Extracted 1 worksheets in 0.01 seconds\n",
      "Extracted 1 worksheets in 0.01 seconds\n",
      "Extracted 1 worksheets in 0.01 seconds\n",
      "Extracted 1 worksheets in 0.01 seconds\n",
      "Extracted 1 worksheets in 0.47 seconds\n",
      "Extracted 1 worksheets in 0.03 seconds\n",
      "****************** IMPORTANT BACKGROUND PARAMETERS ******************\n",
      " * The country of use is CAZ\n",
      " * Power and energy batteries produced in CN using NMC chemistry.\n",
      " * in 2028, % of renewable: 61.0%, GHG intensity per kWh: 275 g. CO2-eq.\n",
      " * electrolysis is completed by smr - natural gas.\n",
      " \t * in 2028 _________________________________________ 0%\n",
      " * cng is completed by biogas - biowaste.\n",
      " \t * in 2028 _________________________________________ 0%\n",
      " * diesel is completed by biodiesel - cooking oil and synthetic diesel.\n",
      " \t * in 2028 _________________ 1.0% _________________ 0.0%\n",
      " * petrol is completed by bioethanol - wheat straw and synthetic gasoline.\n",
      " \t * in 2028 _________________ 1.0% _________________ 0.0%\n",
      " * *********************************************************************\n"
     ]
    },
    {
     "name": "stderr",
     "output_type": "stream",
     "text": [
      "0% [##############################] 100% | ETA: 00:00:00 | Item ID: 845\n",
      "Total time elapsed: 00:00:00\n"
     ]
    },
    {
     "name": "stdout",
     "output_type": "stream",
     "text": [
      "****************** IMPORTANT BACKGROUND PARAMETERS ******************\n",
      " * The country of use is CHA\n",
      " * Power and energy batteries produced in CN using NMC chemistry.\n",
      " * in 2028, % of renewable: 23.0%, GHG intensity per kWh: 695 g. CO2-eq.\n",
      " * electrolysis is completed by smr - natural gas.\n",
      " \t * in 2028 _________________________________________ 0%\n",
      " * cng is completed by biogas - biowaste.\n",
      " \t * in 2028 _________________________________________ 0%\n",
      " * diesel is completed by biodiesel - cooking oil and synthetic diesel.\n",
      " \t * in 2028 _________________ 0.0% _________________ 0.0%\n",
      " * petrol is completed by bioethanol - wheat straw and synthetic gasoline.\n",
      " \t * in 2028 _________________ 0.0% _________________ 0.0%\n",
      " * *********************************************************************\n"
     ]
    },
    {
     "name": "stderr",
     "output_type": "stream",
     "text": [
      "0% [##############################] 100% | ETA: 00:00:00 | Item ID: 845\n",
      "Total time elapsed: 00:00:00\n"
     ]
    },
    {
     "name": "stdout",
     "output_type": "stream",
     "text": [
      "****************** IMPORTANT BACKGROUND PARAMETERS ******************\n",
      " * The country of use is EUR\n",
      " * Power and energy batteries produced in CN using NMC chemistry.\n",
      " * in 2028, % of renewable: 24.0%, GHG intensity per kWh: 474 g. CO2-eq.\n",
      " * electrolysis is completed by smr - natural gas.\n",
      " \t * in 2028 _________________________________________ 0%\n",
      " * cng is completed by biogas - biowaste.\n",
      " \t * in 2028 _________________________________________ 0%\n",
      " * diesel is completed by biodiesel - cooking oil and synthetic diesel.\n",
      " \t * in 2028 _________________ 5.0% _________________ 0.0%\n",
      " * petrol is completed by bioethanol - wheat straw and synthetic gasoline.\n",
      " \t * in 2028 _________________ 5.0% _________________ 0.0%\n",
      " * *********************************************************************\n"
     ]
    },
    {
     "name": "stderr",
     "output_type": "stream",
     "text": [
      "0% [##############################] 100% | ETA: 00:00:00 | Item ID: 845\n",
      "Total time elapsed: 00:00:00\n"
     ]
    },
    {
     "name": "stdout",
     "output_type": "stream",
     "text": [
      "****************** IMPORTANT BACKGROUND PARAMETERS ******************\n",
      " * The country of use is IND\n",
      " * Power and energy batteries produced in CN using NMC chemistry.\n",
      " * in 2028, % of renewable: 12.0%, GHG intensity per kWh: 815 g. CO2-eq.\n",
      " * electrolysis is completed by smr - natural gas.\n",
      " \t * in 2028 _________________________________________ 0%\n",
      " * cng is completed by biogas - biowaste.\n",
      " \t * in 2028 _________________________________________ 0%\n",
      " * diesel is completed by biodiesel - cooking oil and synthetic diesel.\n",
      " \t * in 2028 _________________ 0.0% _________________ 0.0%\n",
      " * petrol is completed by bioethanol - wheat straw and synthetic gasoline.\n",
      " \t * in 2028 _________________ 0.0% _________________ 0.0%\n",
      " * *********************************************************************\n"
     ]
    },
    {
     "name": "stderr",
     "output_type": "stream",
     "text": [
      "0% [##############################] 100% | ETA: 00:00:00 | Item ID: 845\n",
      "Total time elapsed: 00:00:00\n"
     ]
    },
    {
     "name": "stdout",
     "output_type": "stream",
     "text": [
      "****************** IMPORTANT BACKGROUND PARAMETERS ******************\n",
      " * The country of use is JPN\n",
      " * Power and energy batteries produced in CN using NMC chemistry.\n",
      " * in 2028, % of renewable: 25.0%, GHG intensity per kWh: 518 g. CO2-eq.\n",
      " * electrolysis is completed by smr - natural gas.\n",
      " \t * in 2028 _________________________________________ 0%\n",
      " * cng is completed by biogas - biowaste.\n",
      " \t * in 2028 _________________________________________ 0%\n",
      " * diesel is completed by biodiesel - cooking oil and synthetic diesel.\n",
      " \t * in 2028 _________________ 0.0% _________________ 0.0%\n",
      " * petrol is completed by bioethanol - wheat straw and synthetic gasoline.\n",
      " \t * in 2028 _________________ 0.0% _________________ 0.0%\n",
      " * *********************************************************************\n"
     ]
    },
    {
     "name": "stderr",
     "output_type": "stream",
     "text": [
      "0% [##############################] 100% | ETA: 00:00:00 | Item ID: 845\n",
      "Total time elapsed: 00:00:00\n"
     ]
    },
    {
     "name": "stdout",
     "output_type": "stream",
     "text": [
      "****************** IMPORTANT BACKGROUND PARAMETERS ******************\n",
      " * The country of use is LAM\n",
      " * Power and energy batteries produced in CN using NMC chemistry.\n",
      " * in 2028, % of renewable: 58.0%, GHG intensity per kWh: 316 g. CO2-eq.\n",
      " * electrolysis is completed by smr - natural gas.\n",
      " \t * in 2028 _________________________________________ 0%\n",
      " * cng is completed by biogas - biowaste.\n",
      " \t * in 2028 _________________________________________ 0%\n",
      " * diesel is completed by biodiesel - cooking oil and synthetic diesel.\n",
      " \t * in 2028 _________________ 7.0% _________________ 0.0%\n",
      " * petrol is completed by bioethanol - wheat straw and synthetic gasoline.\n",
      " \t * in 2028 _________________ 7.0% _________________ 0.0%\n",
      " * *********************************************************************\n"
     ]
    },
    {
     "name": "stderr",
     "output_type": "stream",
     "text": [
      "0% [##############################] 100% | ETA: 00:00:00 | Item ID: 845\n",
      "Total time elapsed: 00:00:00\n"
     ]
    },
    {
     "name": "stdout",
     "output_type": "stream",
     "text": [
      "****************** IMPORTANT BACKGROUND PARAMETERS ******************\n",
      " * The country of use is MEA\n",
      " * Power and energy batteries produced in CN using NMC chemistry.\n",
      " * in 2028, % of renewable: 4.0%, GHG intensity per kWh: 674 g. CO2-eq.\n",
      " * electrolysis is completed by smr - natural gas.\n",
      " \t * in 2028 _________________________________________ 0%\n",
      " * cng is completed by biogas - biowaste.\n",
      " \t * in 2028 _________________________________________ 0%\n",
      " * diesel is completed by biodiesel - cooking oil and synthetic diesel.\n",
      " \t * in 2028 _________________ 0.0% _________________ 0.0%\n",
      " * petrol is completed by bioethanol - wheat straw and synthetic gasoline.\n",
      " \t * in 2028 _________________ 0.0% _________________ 0.0%\n",
      " * *********************************************************************\n"
     ]
    },
    {
     "name": "stderr",
     "output_type": "stream",
     "text": [
      "0% [##############################] 100% | ETA: 00:00:00 | Item ID: 845\n",
      "Total time elapsed: 00:00:00\n"
     ]
    },
    {
     "name": "stdout",
     "output_type": "stream",
     "text": [
      "****************** IMPORTANT BACKGROUND PARAMETERS ******************\n",
      " * The country of use is NEU\n",
      " * Power and energy batteries produced in CN using NMC chemistry.\n",
      " * in 2028, % of renewable: 51.0%, GHG intensity per kWh: 345 g. CO2-eq.\n",
      " * electrolysis is completed by smr - natural gas.\n",
      " \t * in 2028 _________________________________________ 0%\n",
      " * cng is completed by biogas - biowaste.\n",
      " \t * in 2028 _________________________________________ 0%\n",
      " * diesel is completed by biodiesel - cooking oil and synthetic diesel.\n",
      " \t * in 2028 _________________ 0.0% _________________ 0.0%\n",
      " * petrol is completed by bioethanol - wheat straw and synthetic gasoline.\n",
      " \t * in 2028 _________________ 0.0% _________________ 0.0%\n",
      " * *********************************************************************\n"
     ]
    },
    {
     "name": "stderr",
     "output_type": "stream",
     "text": [
      "0% [##############################] 100% | ETA: 00:00:00 | Item ID: 845\n",
      "Total time elapsed: 00:00:00\n"
     ]
    },
    {
     "name": "stdout",
     "output_type": "stream",
     "text": [
      "****************** IMPORTANT BACKGROUND PARAMETERS ******************\n",
      " * The country of use is OAS\n",
      " * Power and energy batteries produced in CN using NMC chemistry.\n",
      " * in 2028, % of renewable: 11.0%, GHG intensity per kWh: 697 g. CO2-eq.\n",
      " * electrolysis is completed by smr - natural gas.\n",
      " \t * in 2028 _________________________________________ 0%\n",
      " * cng is completed by biogas - biowaste.\n",
      " \t * in 2028 _________________________________________ 0%\n",
      " * diesel is completed by biodiesel - cooking oil and synthetic diesel.\n",
      " \t * in 2028 _________________ 0.0% _________________ 0.0%\n",
      " * petrol is completed by bioethanol - wheat straw and synthetic gasoline.\n",
      " \t * in 2028 _________________ 0.0% _________________ 0.0%\n",
      " * *********************************************************************\n"
     ]
    },
    {
     "name": "stderr",
     "output_type": "stream",
     "text": [
      "0% [##############################] 100% | ETA: 00:00:00 | Item ID: 845\n",
      "Total time elapsed: 00:00:00\n"
     ]
    },
    {
     "name": "stdout",
     "output_type": "stream",
     "text": [
      "****************** IMPORTANT BACKGROUND PARAMETERS ******************\n",
      " * The country of use is REF\n",
      " * Power and energy batteries produced in CN using NMC chemistry.\n",
      " * in 2028, % of renewable: 18.0%, GHG intensity per kWh: 536 g. CO2-eq.\n",
      " * electrolysis is completed by smr - natural gas.\n",
      " \t * in 2028 _________________________________________ 0%\n",
      " * cng is completed by biogas - biowaste.\n",
      " \t * in 2028 _________________________________________ 0%\n",
      " * diesel is completed by biodiesel - cooking oil and synthetic diesel.\n",
      " \t * in 2028 _________________ 0.0% _________________ 0.0%\n",
      " * petrol is completed by bioethanol - wheat straw and synthetic gasoline.\n",
      " \t * in 2028 _________________ 0.0% _________________ 0.0%\n",
      " * *********************************************************************\n"
     ]
    },
    {
     "name": "stderr",
     "output_type": "stream",
     "text": [
      "0% [##############################] 100% | ETA: 00:00:00 | Item ID: 845\n",
      "Total time elapsed: 00:00:00\n"
     ]
    },
    {
     "name": "stdout",
     "output_type": "stream",
     "text": [
      "****************** IMPORTANT BACKGROUND PARAMETERS ******************\n",
      " * The country of use is SSA\n",
      " * Power and energy batteries produced in CN using NMC chemistry.\n",
      " * in 2028, % of renewable: 26.0%, GHG intensity per kWh: 560 g. CO2-eq.\n",
      " * electrolysis is completed by smr - natural gas.\n",
      " \t * in 2028 _________________________________________ 0%\n",
      " * cng is completed by biogas - biowaste.\n",
      " \t * in 2028 _________________________________________ 0%\n",
      " * diesel is completed by biodiesel - cooking oil and synthetic diesel.\n",
      " \t * in 2028 _________________ 0.0% _________________ 0.0%\n",
      " * petrol is completed by bioethanol - wheat straw and synthetic gasoline.\n",
      " \t * in 2028 _________________ 0.0% _________________ 0.0%\n",
      " * *********************************************************************\n"
     ]
    },
    {
     "name": "stderr",
     "output_type": "stream",
     "text": [
      "0% [##############################] 100% | ETA: 00:00:00 | Item ID: 845\n",
      "Total time elapsed: 00:00:00\n"
     ]
    },
    {
     "name": "stdout",
     "output_type": "stream",
     "text": [
      "****************** IMPORTANT BACKGROUND PARAMETERS ******************\n",
      " * The country of use is USA\n",
      " * Power and energy batteries produced in CN using NMC chemistry.\n",
      " * in 2028, % of renewable: 12.0%, GHG intensity per kWh: 632 g. CO2-eq.\n",
      " * electrolysis is completed by smr - natural gas.\n",
      " \t * in 2028 _________________________________________ 0%\n",
      " * cng is completed by biogas - biowaste.\n",
      " \t * in 2028 _________________________________________ 0%\n",
      " * diesel is completed by biodiesel - cooking oil and synthetic diesel.\n",
      " \t * in 2028 _________________ 4.0% _________________ 0.0%\n",
      " * petrol is completed by bioethanol - wheat straw and synthetic gasoline.\n",
      " \t * in 2028 _________________ 4.0% _________________ 0.0%\n",
      " * *********************************************************************\n"
     ]
    },
    {
     "name": "stderr",
     "output_type": "stream",
     "text": [
      "0% [##############################] 100% | ETA: 00:00:00 | Item ID: 845\n",
      "Total time elapsed: 00:00:00\n"
     ]
    },
    {
     "name": "stdout",
     "output_type": "stream",
     "text": [
      "The following datasets to import already exist in the source database. They will not be imported\n",
      "+------------------------------------------+--------------------------------+----------------------------+\n",
      "|                   Name                   |       Reference product        |          Location          |\n",
      "+------------------------------------------+--------------------------------+----------------------------+\n",
      "|        drilling, deep borehole/m         |   drilling, deep borehole/m    |            RER             |\n",
      "|          RWGS tank construction          |     RWGS tank construction     |            GLO             |\n",
      "| Hydrogen, gaseous, 700 bar, from electro |   Hydrogen, gaseous, 700 bar   |            RER             |\n",
      "| Hydrogen, gaseous, 25 bar, from dual flu |   Hydrogen, gaseous, 25 bar    |             CH             |\n",
      "|    Sabatier reaction methanation unit    | Sabatier reaction methanation  |            RER             |\n",
      "|      carbon dioxide capture system       | carbon dioxide capture system  |            RER             |\n",
      "|            Methanol Synthesis            |      Methanol, unpurified      |            RER             |\n",
      "| ATR BM, with digestate incineration, 25  |   Hydrogen, gaseous, 25 bar    |             CH             |\n",
      "|          Methanol distillation           |       Purified methanol        |            RER             |\n",
      "| production of 2 wt-% potassium iodide so | production of 2 wt-% potassium |            RER             |\n",
      "| softwood forestry, pine, sustainable for | wood chips, wet, measured as d |             DE             |\n",
      "| Hydrogen, gaseous, 700 bar, from dual fl |   Hydrogen, gaseous, 700 bar   |             CH             |\n",
      "| frequency converter, for diaphragm compr | frequency converter, for diaph |            GLO             |\n",
      "| wiring and tubing, carbon dioxide captur | wiring and tubing, carbon diox |            RER             |\n",
      "| Gasoline production, synthetic, from met |      Gasoline, synthetic       |            RER             |\n",
      "|   Disposal, hydrogen fuelling station    | Disposal, hydrogen fuelling st |            RER             |\n",
      "| Maize cultivation, drying and storage {R | Maize cultivation, drying and  |            RER             |\n",
      "|         Syngas, RWGS, Production         |    Syngas, RWGS, Production    |            RER             |\n",
      "| Hydrogen, gaseous, 25 bar, from dual flu |   Hydrogen, gaseous, 25 bar    |             CH             |\n",
      "| Diesel production, synthetic, Fischer Tr |       Diesel, synthetic        |            RER             |\n",
      "| Hydrogen, gaseous, 25 bar, from gasifica |   Hydrogen, gaseous, 25 bar    |             CH             |\n",
      "|     Hydrogen refuelling station, SMR     | Hydrogen refuelling station, S |            GLO             |\n",
      "| market for wood chips, wet, measured as  | wood chips, wet, measured as d |             SE             |\n",
      "| Hydrogen, gaseous, 700 bar, from gasific |   Hydrogen, gaseous, 700 bar   |            RER             |\n",
      "|              straw pellets               |         straw pellets          |            RER             |\n",
      "| ATR BM + CCS (MDEA), 98 (average), with  |   Hydrogen, gaseous, 25 bar    |             CH             |\n",
      "| adsorption and desorption unit, carbon d | adsorption and desorption unit |            RER             |\n",
      "| Hydrogen, gaseous, 25 bar, from electrol |   Hydrogen, gaseous, 25 bar    |            RER             |\n",
      "|        Ethanol from maize starch         |   Ethanol from maize starch    |            RER             |\n",
      "|         PEM electrolyzer, Stack          |    PEM electrolyzer, Stack     |            GLO             |\n",
      "|     Ethanol from wheat straw pellets     | Ethanol from wheat straw pelle |            RER             |\n",
      "| Refined Waste Cooking Oil {RER} | Refini | Refined Waste Cooking Oil {RER |            RER             |\n",
      "| Hydrogen, gaseous, 30 bar, from hard coa |   Hydrogen, gaseous, 30 bar    |            RER             |\n",
      "| algae cultivation | algae broth producti | algae cultivation | algae brot |            RER             |\n",
      "| softwood forestry, spruce, sustainable f | wood chips, wet, measured as d |             DE             |\n",
      "| Hydrogen, gaseous, 700 bar, from gasific |   Hydrogen, gaseous, 700 bar   |            RER             |\n",
      "| Hydrogen, gaseous, 700 bar, from SMR of  |   Hydrogen, gaseous, 700 bar   |            RER             |\n",
      "| hardwood forestry, oak, sustainable fore | wood chips, wet, measured as d |             DE             |\n",
      "| softwood forestry, pine, sustainable for | wood chips, wet, measured as d |             SE             |\n",
      "| Hydrogen, gaseous, 700 bar, ATR of NG, a |   Hydrogen, gaseous, 700 bar   |            RER             |\n",
      "| SMR BM, HT+LT, with digestate incinerati |   Hydrogen, gaseous, 26 bar    |             CH             |\n",
      "| SMR BM, HT+LT, + CCS (MDEA), 98 (average |   Hydrogen, gaseous, 26 bar    |             CH             |\n",
      "|  pumps, carbon dioxide capture process   | pumps, carbon dioxide capture  |            RER             |\n",
      "|       Biodiesel from rapeseed oil        |  Biodiesel from rapeseed oil   |            RER             |\n",
      "| Hydrogen, gaseous, 700 bar, from SMR of  |   Hydrogen, gaseous, 700 bar   |            RER             |\n",
      "| Hydrogen, gaseous, 25 bar, from dual flu |   Hydrogen, gaseous, 25 bar    |            RER             |\n",
      "|           Biodiesel from algae           |      Biodiesel from algae      |            RER             |\n",
      "| Sugar beet cultivation {RER} | sugar bee | Sugar beet cultivation {RER} | |            RER             |\n",
      "| softwood forestry, mixed species, sustai | softwood forestry, mixed speci |             CH             |\n",
      "|              ATR NG, 25 bar              |   Hydrogen, gaseous, 25 bar    |            RER             |\n",
      "|        Ethanol from wheat grains         |   Ethanol from wheat grains    |            RER             |\n",
      "|             SMR NG, 700 bar              |        SMR NG, 700 bar         |             CH             |\n",
      "| Hydrogen, gaseous, 25 bar, from gasifica |   Hydrogen, gaseous, 25 bar    |            RER             |\n",
      "|      Straw bales | baling of straw       | Straw bales | baling of straw  |            RER             |\n",
      "| Hydrogen, gaseous, 700 bar, from ATR of  |   Hydrogen, gaseous, 700 bar   |            RER             |\n",
      "| hardwood forestry, beech, sustainable fo | wood chips, wet, measured as d |             DE             |\n",
      "| Hydrogen, gaseous, 700 bar, ATR of NG, w |   Hydrogen, gaseous, 700 bar   |            RER             |\n",
      "| Hydrogen, gaseous, 700 bar, from dual fl |   Hydrogen, gaseous, 700 bar   |            RER             |\n",
      "|         Biodiesel from palm oil          |    Biodiesel from palm oil     |            RER             |\n",
      "| Hydrogen, gaseous, 700 bar, from SMR of  |   Hydrogen, gaseous, 700 bar   |            RER             |\n",
      "| Oil Palm Tree Cultivation {RER} | Fresh  | Oil Palm Tree Cultivation {RER |            RER             |\n",
      "| Hydrogen, gaseous, 700 bar, from SMR of  |   Hydrogen, gaseous, 700 bar   |            RER             |\n",
      "| Walls and foundations, for hydrogen refu | Walls and foundations, for hyd |            RER             |\n",
      "| cooling unit, carbon dioxide capture pro | cooling unit, carbon dioxide c |            RER             |\n",
      "| softwood forestry, spruce, sustainable f | wood chips, wet, measured as d |             SE             |\n",
      "| container, with pipes and fittings, for  | container, with pipes and fitt |            GLO             |\n",
      "| Plant oil from crude oil | refining of v | Plant oil from crude oil | ref |            RER             |\n",
      "| Hydrogen, gaseous, 25 bar, from gasifica |   Hydrogen, gaseous, 25 bar    |            RER             |\n",
      "| PEM electrolyzer, Operation and Maintena | PEM electrolyzer, Operation an |            RER             |\n",
      "| Hydrogen, gaseous, 700 bar, from dual fl |   Hydrogen, gaseous, 700 bar   |             CH             |\n",
      "| heat exchanger, carbon dioxide capture p | heat exchanger, carbon dioxide |            RER             |\n",
      "|          ethanol without biogas          |     ethanol without biogas     |            RER             |\n",
      "| Hydrogen, gaseous, 700 bar, from dual fl |   Hydrogen, gaseous, 700 bar   |            RER             |\n",
      "|        Biodiesel from cooking oil        |   Biodiesel from cooking oil   |            RER             |\n",
      "| Rapeseed cultivation {RER} | rapeseed pr | Rapeseed cultivation {RER} | r |            RER             |\n",
      "| CO2 storage/at H2 production plant, pre, | CO2 storage/at H2 production p |            RER             |\n",
      "| Hydrogen, gaseous, 700 bar, from ATR of  |   Hydrogen, gaseous, 700 bar   |            RER             |\n",
      "| SMR NG + CCS (MDEA), 98 (average), 700 b |     SMR NG + CCS, 700 bar      |             CH             |\n",
      "| hardwood forestry, mixed species, sustai | hardwood forestry, mixed speci |             CH             |\n",
      "|          Ethanol from sugarbeet          |     Ethanol from sugarbeet     |            RER             |\n",
      "| Crude Palm Oil extraction from FFBs {RER | Crude Palm Oil extraction from |            RER             |\n",
      "| diaphragm compressor module, high pressu | diaphragm compressor module, h |            GLO             |\n",
      "| market for wood chips, wet, measured as  | wood chips, wet, measured as d |             CH             |\n",
      "|     PEM electrolyzer, ACDC Converter     | PEM electrolyzer, ACDC Convert |            GLO             |\n",
      "| control panel, carbon dioxide capture pr | control panel, carbon dioxide  |            RER             |\n",
      "| Hydrogen, gaseous, 25 bar, from dual flu |   Hydrogen, gaseous, 25 bar    |            RER             |\n",
      "|  algae harvesting| dry algae production  | algae harvesting| dry algae pr |            RER             |\n",
      "| production of nickle-based catalyst for  | production of nickle-based cat |            RER             |\n",
      "|      pipeline, supercritical CO2/km      | pipeline, supercritical CO2/km |            RER             |\n",
      "| ATR NG + CCS (MDEA), 98 (average), 25 ba |   Hydrogen, gaseous, 25 bar    |            RER             |\n",
      "| storage module, high pressure, at fuelli | storage module, high pressure, |            GLO             |\n",
      "| market for wood chips, wet, measured as  | wood chips, wet, measured as d | Europe without Switzerland |\n",
      "| Crude vegetable oil | oil mill: extracti | Crude vegetable oil | oil mill |            RER             |\n",
      "|               Buffer tank                |          Buffer tank           |            GLO             |\n",
      "|  MTG production facility, construction   | MTG production facility, const |            RER             |\n",
      "| hot water tank, carbon dioxide capture p | hot water tank, carbon dioxide |            RER             |\n",
      "|              SMR NG, 25 bar              |         SMR NG, 25 bar         |             CH             |\n",
      "| Hydrogen, gaseous, 25 bar, from gasifica |   Hydrogen, gaseous, 25 bar    |             CH             |\n",
      "|       Ethanol from forest residues       |  Ethanol from forest residues  |            RER             |\n",
      "| carbon dioxide, captured from atmosphere | carbon dioxide, captured from  |            RER             |\n",
      "|     woodchips from forestry residues     | woodchips from forestry residu |            RER             |\n",
      "| transformer and rectifier unit, for elec | transformer and rectifier unit |            GLO             |\n",
      "|    PEM electrolyzer, Balance of Plant    | PEM electrolyzer, Balance of P |            GLO             |\n",
      "|   diaphragms, for diaphragm compressor   | diaphragms, for diaphragm comp |            GLO             |\n",
      "| transport, pipeline, supercritical CO2,  | transport, pipeline, supercrit |            RER             |\n",
      "| market for wood chips, wet, measured as  | wood chips, wet, measured as d |             DE             |\n",
      "| SMR NG + CCS (MDEA), 98 (average), 25 ba |   Hydrogen, gaseous, 25 bar    |             CH             |\n",
      "| Plant oil production | refining of crude | Plant oil production | refinin |            RER             |\n",
      "| Wheat grain cultivation, drying and stor | Wheat grain cultivation, dryin |            RER             |\n",
      "| Hydrogen dispenser, for gaseous hydrogen | Hydrogen dispenser, for gaseou |            GLO             |\n",
      "| Fischer Tropsch reactor and upgrading pl | Fischer Tropsch reactor and up |            RER             |\n",
      "|        Carbon monoxide, from RWGS        |   Carbon monoxide, from RWGS   |            RER             |\n",
      "| hardwood forestry, birch, sustainable fo | wood chips, wet, measured as d |             SE             |\n"
     ]
    },
    {
     "name": "stdout",
     "output_type": "stream",
     "text": [
      "+------------------------------------------+--------------------------------+----------------------------+\n",
      "Regional delivery driving cycle is selected. Vehicles will be designed to achieve a minimal range of 400 km.\n",
      "\n",
      "Capacity utilization assumed (share of available payload used)\n",
      "+----------------+------+------+------+------+------+------+------+\n",
      "|                | 3.5t | 7.5t | 18t  | 26t  | 32t  | 40t  | 60t  |\n",
      "+----------------+------+------+------+------+------+------+------+\n",
      "|   BEV, 2028    | 0.6  | 0.41 | 0.42 | 0.38 | 0.36 | 0.36 | 0.36 |\n",
      "|   FCEV, 2028   | 0.6  | 0.41 | 0.42 | 0.38 | 0.36 | 0.36 | 0.36 |\n",
      "|  HEV-d, 2028   | 0.6  | 0.41 | 0.42 | 0.38 | 0.36 | 0.36 | 0.36 |\n",
      "|  ICEV-d, 2028  | 0.6  | 0.41 | 0.42 | 0.38 | 0.36 | 0.36 | 0.36 |\n",
      "|  ICEV-g, 2028  | 0.6  | 0.41 | 0.42 | 0.38 | 0.36 | 0.36 | 0.36 |\n",
      "| PHEV-c-d, 2028 | 0.6  | 0.41 | 0.42 | 0.38 | 0.36 | 0.36 | 0.36 |\n",
      "|  PHEV-d, 2028  | 0.6  | 0.41 | 0.42 | 0.38 | 0.36 | 0.36 | 0.36 |\n",
      "|  PHEV-e, 2028  | 0.6  | 0.41 | 0.42 | 0.38 | 0.36 | 0.36 | 0.36 |\n",
      "+----------------+------+------+------+------+------+------+------+\n",
      "Finding solutions for trucks...\n",
      "\n",
      "Payload (in tons)\n",
      "'-' BEV with driving mass superior to the permissible gross weight.\n",
      "'*' ICEV that do not comply wih energy reduction target.\n",
      "'/' vehicles not available for the specified year.\n",
      "+--------------+------+------+-----+-----+-----+-----+------+\n",
      "|              | 3.5t | 7.5t | 18t | 26t | 32t | 40t | 60t  |\n",
      "+--------------+------+------+-----+-----+-----+-----+------+\n",
      "| ICEV-d, 2028 | 0.9  | 1.6  | 4.6 | 6.8 | 7.3 | 9.7 | 14.8 |\n",
      "| ICEV-g, 2028 | 0.8  | 1.5  | 4.5 | 6.7 | 7.2 | 9.6 | 14.6 |\n",
      "| PHEV-d, 2028 | 0.5  | 1.2  | 3.9 | 6.1 | 6.3 | 8.7 | 13.6 |\n",
      "|  FCEV, 2028  | 1.0  | 1.7  | 4.8 | 7.0 | 7.4 | 9.9 | 14.9 |\n",
      "|  BEV, 2028   | 0.5  | 1.2  | 3.9 | 6.1 | 6.3 | 8.7 | 13.5 |\n",
      "| HEV-d, 2028  | 0.9  | 1.6  | 4.7 | 6.8 | 7.3 | 9.8 | 14.8 |\n",
      "+--------------+------+------+-----+-----+-----+-----+------+\n",
      "****************** IMPORTANT BACKGROUND PARAMETERS ******************\n",
      " * The country of use is CH\n",
      " * Energy batteries produced in CN using NMC chemistry.\n",
      " * in 2028, % of renewable: 61.0%, GHG intensity per kWh: 275 g. CO2-eq.\n",
      " * electrolysis is completed by smr - natural gas.\n",
      " \t * in 2028 _________________________________________ 0.0%\n",
      " * cng is completed by biogas - sewage sludge.\n",
      " \t * in 2028 _________________________________________ 0.0%\n",
      " * diesel is completed by biodiesel - cooking oil.\n",
      " \t * in 2028 _________________________________________ 0.0%\n",
      " * *********************************************************************\n"
     ]
    },
    {
     "name": "stderr",
     "output_type": "stream",
     "text": [
      "0% [##############################] 100% | ETA: 00:00:00 | Item ID: 814\n",
      "Total time elapsed: 00:00:00\n"
     ]
    },
    {
     "name": "stdout",
     "output_type": "stream",
     "text": [
      "****************** IMPORTANT BACKGROUND PARAMETERS ******************\n",
      " * The country of use is CH\n",
      " * Energy batteries produced in CN using NMC chemistry.\n",
      " * in 2028, % of renewable: 23.0%, GHG intensity per kWh: 697 g. CO2-eq.\n",
      " * electrolysis is completed by smr - natural gas.\n",
      " \t * in 2028 _________________________________________ 0.0%\n",
      " * cng is completed by biogas - sewage sludge.\n",
      " \t * in 2028 _________________________________________ 0.0%\n",
      " * diesel is completed by biodiesel - cooking oil.\n",
      " \t * in 2028 _________________________________________ 0.0%\n",
      " * *********************************************************************\n"
     ]
    },
    {
     "name": "stderr",
     "output_type": "stream",
     "text": [
      "0% [##############################] 100% | ETA: 00:00:00 | Item ID: 814\n",
      "Total time elapsed: 00:00:00\n"
     ]
    },
    {
     "name": "stdout",
     "output_type": "stream",
     "text": [
      "****************** IMPORTANT BACKGROUND PARAMETERS ******************\n",
      " * The country of use is CH\n",
      " * Energy batteries produced in CN using NMC chemistry.\n",
      " * in 2028, % of renewable: 24.0%, GHG intensity per kWh: 475 g. CO2-eq.\n",
      " * electrolysis is completed by smr - natural gas.\n",
      " \t * in 2028 _________________________________________ 0.0%\n",
      " * cng is completed by biogas - sewage sludge.\n",
      " \t * in 2028 _________________________________________ 0.0%\n",
      " * diesel is completed by biodiesel - cooking oil.\n",
      " \t * in 2028 _________________________________________ 0.0%\n",
      " * *********************************************************************\n"
     ]
    },
    {
     "name": "stderr",
     "output_type": "stream",
     "text": [
      "0% [##############################] 100% | ETA: 00:00:00 | Item ID: 814\n",
      "Total time elapsed: 00:00:00\n"
     ]
    },
    {
     "name": "stdout",
     "output_type": "stream",
     "text": [
      "****************** IMPORTANT BACKGROUND PARAMETERS ******************\n",
      " * The country of use is CH\n",
      " * Energy batteries produced in CN using NMC chemistry.\n",
      " * in 2028, % of renewable: 12.0%, GHG intensity per kWh: 817 g. CO2-eq.\n",
      " * electrolysis is completed by smr - natural gas.\n",
      " \t * in 2028 _________________________________________ 0.0%\n",
      " * cng is completed by biogas - sewage sludge.\n",
      " \t * in 2028 _________________________________________ 0.0%\n",
      " * diesel is completed by biodiesel - cooking oil.\n",
      " \t * in 2028 _________________________________________ 0.0%\n",
      " * *********************************************************************\n"
     ]
    },
    {
     "name": "stderr",
     "output_type": "stream",
     "text": [
      "0% [##############################] 100% | ETA: 00:00:00 | Item ID: 814\n",
      "Total time elapsed: 00:00:00\n"
     ]
    },
    {
     "name": "stdout",
     "output_type": "stream",
     "text": [
      "****************** IMPORTANT BACKGROUND PARAMETERS ******************\n",
      " * The country of use is CH\n",
      " * Energy batteries produced in CN using NMC chemistry.\n",
      " * in 2028, % of renewable: 25.0%, GHG intensity per kWh: 519 g. CO2-eq.\n",
      " * electrolysis is completed by smr - natural gas.\n",
      " \t * in 2028 _________________________________________ 0.0%\n",
      " * cng is completed by biogas - sewage sludge.\n",
      " \t * in 2028 _________________________________________ 0.0%\n",
      " * diesel is completed by biodiesel - cooking oil.\n",
      " \t * in 2028 _________________________________________ 0.0%\n",
      " * *********************************************************************\n"
     ]
    },
    {
     "name": "stderr",
     "output_type": "stream",
     "text": [
      "0% [##############################] 100% | ETA: 00:00:00 | Item ID: 814\n",
      "Total time elapsed: 00:00:00\n"
     ]
    },
    {
     "name": "stdout",
     "output_type": "stream",
     "text": [
      "****************** IMPORTANT BACKGROUND PARAMETERS ******************\n",
      " * The country of use is CH\n",
      " * Energy batteries produced in CN using NMC chemistry.\n",
      " * in 2028, % of renewable: 58.0%, GHG intensity per kWh: 316 g. CO2-eq.\n",
      " * electrolysis is completed by smr - natural gas.\n",
      " \t * in 2028 _________________________________________ 0.0%\n",
      " * cng is completed by biogas - sewage sludge.\n",
      " \t * in 2028 _________________________________________ 0.0%\n",
      " * diesel is completed by biodiesel - cooking oil.\n",
      " \t * in 2028 _________________________________________ 0.0%\n",
      " * *********************************************************************\n"
     ]
    },
    {
     "name": "stderr",
     "output_type": "stream",
     "text": [
      "0% [##############################] 100% | ETA: 00:00:00 | Item ID: 814\n",
      "Total time elapsed: 00:00:00\n"
     ]
    },
    {
     "name": "stdout",
     "output_type": "stream",
     "text": [
      "****************** IMPORTANT BACKGROUND PARAMETERS ******************\n",
      " * The country of use is CH\n",
      " * Energy batteries produced in CN using NMC chemistry.\n",
      " * in 2028, % of renewable: 4.0%, GHG intensity per kWh: 675 g. CO2-eq.\n",
      " * electrolysis is completed by smr - natural gas.\n",
      " \t * in 2028 _________________________________________ 0.0%\n",
      " * cng is completed by biogas - sewage sludge.\n",
      " \t * in 2028 _________________________________________ 0.0%\n",
      " * diesel is completed by biodiesel - cooking oil.\n",
      " \t * in 2028 _________________________________________ 0.0%\n",
      " * *********************************************************************\n"
     ]
    },
    {
     "name": "stderr",
     "output_type": "stream",
     "text": [
      "0% [##############################] 100% | ETA: 00:00:00 | Item ID: 814\n",
      "Total time elapsed: 00:00:00\n"
     ]
    },
    {
     "name": "stdout",
     "output_type": "stream",
     "text": [
      "****************** IMPORTANT BACKGROUND PARAMETERS ******************\n",
      " * The country of use is CH\n",
      " * Energy batteries produced in CN using NMC chemistry.\n",
      " * in 2028, % of renewable: 51.0%, GHG intensity per kWh: 345 g. CO2-eq.\n",
      " * electrolysis is completed by smr - natural gas.\n",
      " \t * in 2028 _________________________________________ 0.0%\n",
      " * cng is completed by biogas - sewage sludge.\n",
      " \t * in 2028 _________________________________________ 0.0%\n",
      " * diesel is completed by biodiesel - cooking oil.\n",
      " \t * in 2028 _________________________________________ 0.0%\n",
      " * *********************************************************************\n"
     ]
    },
    {
     "name": "stderr",
     "output_type": "stream",
     "text": [
      "0% [##############################] 100% | ETA: 00:00:00 | Item ID: 814\n",
      "Total time elapsed: 00:00:00\n"
     ]
    },
    {
     "name": "stdout",
     "output_type": "stream",
     "text": [
      "****************** IMPORTANT BACKGROUND PARAMETERS ******************\n",
      " * The country of use is CH\n",
      " * Energy batteries produced in CN using NMC chemistry.\n",
      " * in 2028, % of renewable: 11.0%, GHG intensity per kWh: 699 g. CO2-eq.\n",
      " * electrolysis is completed by smr - natural gas.\n",
      " \t * in 2028 _________________________________________ 0.0%\n",
      " * cng is completed by biogas - sewage sludge.\n",
      " \t * in 2028 _________________________________________ 0.0%\n",
      " * diesel is completed by biodiesel - cooking oil.\n",
      " \t * in 2028 _________________________________________ 0.0%\n",
      " * *********************************************************************\n"
     ]
    },
    {
     "name": "stderr",
     "output_type": "stream",
     "text": [
      "0% [##############################] 100% | ETA: 00:00:00 | Item ID: 814\n",
      "Total time elapsed: 00:00:00\n"
     ]
    },
    {
     "name": "stdout",
     "output_type": "stream",
     "text": [
      "****************** IMPORTANT BACKGROUND PARAMETERS ******************\n",
      " * The country of use is CH\n",
      " * Energy batteries produced in CN using NMC chemistry.\n",
      " * in 2028, % of renewable: 18.0%, GHG intensity per kWh: 537 g. CO2-eq.\n",
      " * electrolysis is completed by smr - natural gas.\n",
      " \t * in 2028 _________________________________________ 0.0%\n",
      " * cng is completed by biogas - sewage sludge.\n",
      " \t * in 2028 _________________________________________ 0.0%\n",
      " * diesel is completed by biodiesel - cooking oil.\n",
      " \t * in 2028 _________________________________________ 0.0%\n",
      " * *********************************************************************\n"
     ]
    },
    {
     "name": "stderr",
     "output_type": "stream",
     "text": [
      "0% [##############################] 100% | ETA: 00:00:00 | Item ID: 814\n",
      "Total time elapsed: 00:00:00\n"
     ]
    },
    {
     "name": "stdout",
     "output_type": "stream",
     "text": [
      "****************** IMPORTANT BACKGROUND PARAMETERS ******************\n",
      " * The country of use is CH\n",
      " * Energy batteries produced in CN using NMC chemistry.\n",
      " * in 2028, % of renewable: 26.0%, GHG intensity per kWh: 561 g. CO2-eq.\n",
      " * electrolysis is completed by smr - natural gas.\n",
      " \t * in 2028 _________________________________________ 0.0%\n",
      " * cng is completed by biogas - sewage sludge.\n",
      " \t * in 2028 _________________________________________ 0.0%\n",
      " * diesel is completed by biodiesel - cooking oil.\n",
      " \t * in 2028 _________________________________________ 0.0%\n",
      " * *********************************************************************\n"
     ]
    },
    {
     "name": "stderr",
     "output_type": "stream",
     "text": [
      "0% [##############################] 100% | ETA: 00:00:00 | Item ID: 814\n",
      "Total time elapsed: 00:00:00\n"
     ]
    },
    {
     "name": "stdout",
     "output_type": "stream",
     "text": [
      "****************** IMPORTANT BACKGROUND PARAMETERS ******************\n",
      " * The country of use is CH\n",
      " * Energy batteries produced in CN using NMC chemistry.\n",
      " * in 2028, % of renewable: 12.0%, GHG intensity per kWh: 633 g. CO2-eq.\n",
      " * electrolysis is completed by smr - natural gas.\n",
      " \t * in 2028 _________________________________________ 0.0%\n",
      " * cng is completed by biogas - sewage sludge.\n",
      " \t * in 2028 _________________________________________ 0.0%\n",
      " * diesel is completed by biodiesel - cooking oil.\n",
      " \t * in 2028 _________________________________________ 0.0%\n",
      " * *********************************************************************\n"
     ]
    },
    {
     "name": "stderr",
     "output_type": "stream",
     "text": [
      "0% [##############################] 100% | ETA: 00:00:00 | Item ID: 814\n",
      "Total time elapsed: 00:00:00\n"
     ]
    },
    {
     "name": "stdout",
     "output_type": "stream",
     "text": [
      "The following datasets to import already exist in the source database. They will not be imported\n",
      "+------------------------------------------+--------------------------------+----------------------------+\n",
      "|                   Name                   |       Reference product        |          Location          |\n",
      "+------------------------------------------+--------------------------------+----------------------------+\n",
      "| Fuel tank, compressed hydrogen gas, 700b | Fuel tank, compressed hydrogen |            GLO             |\n",
      "|              Cooling system              |         Cooling system         |            GLO             |\n",
      "|                Manifolds                 |           Manifolds            |            GLO             |\n",
      "|          Weaving, carbon cloth           |     Weaving, carbon cloth      |            GLO             |\n",
      "|              Catalyst layer              |         Catalyst layer         |            GLO             |\n",
      "|        drilling, deep borehole/m         |   drilling, deep borehole/m    |            RER             |\n",
      "|          RWGS tank construction          |     RWGS tank construction     |            GLO             |\n",
      "|            Low voltage system            |       Low voltage system       |            GLO             |\n",
      "| Hydrogen, gaseous, 700 bar, from electro |   Hydrogen, gaseous, 700 bar   |            RER             |\n",
      "| Hydrogen, gaseous, 25 bar, from dual flu |   Hydrogen, gaseous, 25 bar    |             CH             |\n",
      "|               Inner frame                |          Inner frame           |            GLO             |\n",
      "|           Gas Diffusion Layer            |      Gas Diffusion Layer       |            GLO             |\n",
      "|    Sabatier reaction methanation unit    | Sabatier reaction methanation  |            RER             |\n",
      "|      carbon dioxide capture system       | carbon dioxide capture system  |            RER             |\n",
      "|                 Tray lid                 |            Tray lid            |            GLO             |\n",
      "|            Methanol Synthesis            |      Methanol, unpurified      |            RER             |\n",
      "|              Ancillary BoP               |         Ancillary BoP          |            GLO             |\n",
      "| ATR BM, with digestate incineration, 25  |   Hydrogen, gaseous, 25 bar    |             CH             |\n",
      "|          Methanol distillation           |       Purified methanol        |            RER             |\n",
      "| production of 2 wt-% potassium iodide so | production of 2 wt-% potassium |            RER             |\n",
      "|                End plate                 |           End plate            |            GLO             |\n",
      "| NCA electrode material (LiNi0.8Co0.15Al0 | NCA electrode material (LiNi0. |             JP             |\n",
      "| softwood forestry, pine, sustainable for | wood chips, wet, measured as d |             DE             |\n",
      "|              IBIS fasteners              |         IBIS fasteners         |            GLO             |\n",
      "| Hydrogen, gaseous, 700 bar, from dual fl |   Hydrogen, gaseous, 700 bar   |             CH             |\n",
      "| frequency converter, for diaphragm compr | frequency converter, for diaph |            GLO             |\n",
      "| wiring and tubing, carbon dioxide captur | wiring and tubing, carbon diox |            RER             |\n",
      "|           High voltage system            |      High voltage system       |            GLO             |\n",
      "|                Separator                 |           Separator            |            GLO             |\n",
      "|     Lithium iron phosphate [LiFePO4]     | Lithium iron phosphate [LiFePO |             JP             |\n",
      "| Gasoline production, synthetic, from met |      Gasoline, synthetic       |            RER             |\n",
      "|                  Anode                   |             Anode              |            GLO             |\n",
      "|   Disposal, hydrogen fuelling station    | Disposal, hydrogen fuelling st |            RER             |\n",
      "| Fuel tank, compressed hydrogen gas, 700b |         Hydrogen tank          |            RER             |\n",
      "| Maize cultivation, drying and storage {R | Maize cultivation, drying and  |            RER             |\n",
      "|              Separator, LFP              |         Separator, LFP         |             JP             |\n",
      "|         Syngas, RWGS, Production         |    Syngas, RWGS, Production    |            RER             |\n",
      "| Hydrogen, gaseous, 25 bar, from dual flu |   Hydrogen, gaseous, 25 bar    |             CH             |\n",
      "| Diesel production, synthetic, Fischer Tr |       Diesel, synthetic        |            RER             |\n",
      "| Hydrogen, gaseous, 25 bar, from gasifica |   Hydrogen, gaseous, 25 bar    |             CH             |\n",
      "|            Battery cell, NCA             |          Battery cell          |            GLO             |\n",
      "|            Cathode paste, NCA            |       Cathode paste, NCA       |             JP             |\n",
      "|     Hydrogen refuelling station, SMR     | Hydrogen refuelling station, S |            GLO             |\n",
      "| market for wood chips, wet, measured as  | wood chips, wet, measured as d |             SE             |\n",
      "|               Battery BoP                |          Battery BoP           |            GLO             |\n",
      "| Hydrogen, gaseous, 700 bar, from gasific |   Hydrogen, gaseous, 700 bar   |            RER             |\n",
      "|              straw pellets               |         straw pellets          |            RER             |\n",
      "| ATR BM + CCS (MDEA), 98 (average), with  |   Hydrogen, gaseous, 25 bar    |             CH             |\n",
      "| adsorption and desorption unit, carbon d | adsorption and desorption unit |            RER             |\n",
      "| Hydrogen, gaseous, 25 bar, from electrol |   Hydrogen, gaseous, 25 bar    |            RER             |\n",
      "| Methane production, synthetic, from elec |       Methane, synthetic       |            RER             |\n",
      "|        Ethanol from maize starch         |   Ethanol from maize starch    |            RER             |\n",
      "|                 Tie-rods                 |            Tie-rods            |            GLO             |\n",
      "|                 Membrane                 |            Membrane            |            GLO             |\n",
      "|         PEM electrolyzer, Stack          |    PEM electrolyzer, Stack     |            GLO             |\n",
      "|     Ethanol from wheat straw pellets     | Ethanol from wheat straw pelle |            RER             |\n",
      "| Refined Waste Cooking Oil {RER} | Refini | Refined Waste Cooking Oil {RER |            RER             |\n",
      "|           Clamps and fasteners           |      Clamps and fasteners      |            GLO             |\n",
      "| Hydrogen, gaseous, 30 bar, from hard coa |   Hydrogen, gaseous, 30 bar    |            RER             |\n",
      "| algae cultivation | algae broth producti | algae cultivation | algae brot |            RER             |\n",
      "| softwood forestry, spruce, sustainable f | wood chips, wet, measured as d |             DE             |\n",
      "| Hydrogen, gaseous, 700 bar, from gasific |   Hydrogen, gaseous, 700 bar   |            RER             |\n",
      "|      Cathode current collector, NCA      | Cathode current collector, NCA |             JP             |\n",
      "| Hydrogen, gaseous, 700 bar, from SMR of  |   Hydrogen, gaseous, 700 bar   |            RER             |\n",
      "| hardwood forestry, oak, sustainable fore | wood chips, wet, measured as d |             DE             |\n",
      "| softwood forestry, pine, sustainable for | wood chips, wet, measured as d |             SE             |\n",
      "| Hydrogen, gaseous, 700 bar, ATR of NG, a |   Hydrogen, gaseous, 700 bar   |            RER             |\n",
      "| SMR BM, HT+LT, with digestate incinerati |   Hydrogen, gaseous, 26 bar    |             CH             |\n",
      "|                 Radiator                 |            Radiator            |            GLO             |\n",
      "| SMR BM, HT+LT, + CCS (MDEA), 98 (average |   Hydrogen, gaseous, 26 bar    |             CH             |\n",
      "| biomethane from biogas upgrading - biowa |           biomethane           |             CH             |\n",
      "|  pumps, carbon dioxide capture process   | pumps, carbon dioxide capture  |            RER             |\n",
      "|       Biodiesel from rapeseed oil        |  Biodiesel from rapeseed oil   |            RER             |\n",
      "| Hydrogen, gaseous, 700 bar, from SMR of  |   Hydrogen, gaseous, 700 bar   |            RER             |\n",
      "|             Electrolyte, NCA             |        Electrolyte, NCA        |             JP             |\n",
      "|             MEA hot pressing             |        MEA hot pressing        |            GLO             |\n",
      "| Hydrogen, gaseous, 25 bar, from dual flu |   Hydrogen, gaseous, 25 bar    |            RER             |\n",
      "|      Selective coating, sputtering       | Selective coating, sputtering  |            GLO             |\n",
      "|           Biodiesel from algae           |      Biodiesel from algae      |            RER             |\n",
      "| Sugar beet cultivation {RER} | sugar bee | Sugar beet cultivation {RER} | |            RER             |\n",
      "|                  Stack                   |             Stack              |            GLO             |\n",
      "| softwood forestry, mixed species, sustai | softwood forestry, mixed speci |             CH             |\n",
      "|      Negative current collector Cu       | Negative current collector Cu  |            GLO             |\n",
      "|              ATR NG, 25 bar              |   Hydrogen, gaseous, 25 bar    |            RER             |\n",
      "|        Ethanol from wheat grains         |   Ethanol from wheat grains    |            RER             |\n",
      "|               Thermal pad                |          Thermal pad           |            GLO             |\n",
      "| Coating and curing, general manufacturin | Coating and curing, general ma |            GLO             |\n",
      "|             SMR NG, 700 bar              |        SMR NG, 700 bar         |             CH             |\n",
      "|               Tab Aluminum               |          Tab Aluminum          |            GLO             |\n",
      "| Hydrogen, gaseous, 25 bar, from gasifica |   Hydrogen, gaseous, 25 bar    |            RER             |\n",
      "|      Straw bales | baling of straw       | Straw bales | baling of straw  |            RER             |\n",
      "| Hydrogen, gaseous, 700 bar, from ATR of  |   Hydrogen, gaseous, 700 bar   |            RER             |\n",
      "| market for styrene butadiene rubber (SBR | styrene butadiene rubber (SBR) |            RER             |\n",
      "| hardwood forestry, beech, sustainable fo | wood chips, wet, measured as d |             DE             |\n",
      "|            Battery cell, NMC             |          Battery cell          |            GLO             |\n",
      "| Hydrogen, gaseous, 700 bar, ATR of NG, w |   Hydrogen, gaseous, 700 bar   |            RER             |\n",
      "| Hydrogen, gaseous, 700 bar, from dual fl |   Hydrogen, gaseous, 700 bar   |            RER             |\n",
      "| Hydrogen, gaseous, 700 bar, from coal ga |   Hydrogen, gaseous, 700 bar   |            RER             |\n",
      "|         Biodiesel from palm oil          |    Biodiesel from palm oil     |            RER             |\n",
      "|              Separator, NCA              |         Separator, NCA         |             JP             |\n",
      "|               Battery tray               |          Battery tray          |            GLO             |\n",
      "|      Bimetallic busbars and washers      | Bimetallic busbars and washers |            GLO             |\n",
      "| Hydrogen, gaseous, 700 bar, from SMR of  |   Hydrogen, gaseous, 700 bar   |            RER             |\n",
      "| Oil Palm Tree Cultivation {RER} | Fresh  | Oil Palm Tree Cultivation {RER |            RER             |\n",
      "| Fuel tank, compressed hydrogen gas, 700b |         Hydrogen tank          |            RER             |\n",
      "|             Anode paste, NCA             |        Anode paste, NCA        |             JP             |\n",
      "|                Module lid                |           Module lid           |            GLO             |\n",
      "| Hydrogen, gaseous, 700 bar, from SMR of  |   Hydrogen, gaseous, 700 bar   |            RER             |\n",
      "| Walls and foundations, for hydrogen refu | Walls and foundations, for hyd |            RER             |\n",
      "| cooling unit, carbon dioxide capture pro | cooling unit, carbon dioxide c |            RER             |\n",
      "|              PEM Fuel Cell               |         PEM Fuel Cell          |            GLO             |\n",
      "| softwood forestry, spruce, sustainable f | wood chips, wet, measured as d |             SE             |\n",
      "| container, with pipes and fittings, for  | container, with pipes and fitt |            GLO             |\n",
      "| Plant oil from crude oil | refining of v | Plant oil from crude oil | ref |            RER             |\n",
      "| Hydrogen, gaseous, 25 bar, from gasifica |   Hydrogen, gaseous, 25 bar    |            RER             |\n",
      "|          ethanol without biogas          |     ethanol without biogas     |            RER             |\n",
      "| Hydrogen, gaseous, 700 bar, from gasific |   Hydrogen, gaseous, 700 bar   |             CH             |\n",
      "| PEM electrolyzer, Operation and Maintena | PEM electrolyzer, Operation an |            RER             |\n",
      "| heat exchanger, carbon dioxide capture p | heat exchanger, carbon dioxide |            RER             |\n",
      "| Hydrogen, gaseous, 700 bar, from dual fl |   Hydrogen, gaseous, 700 bar   |             CH             |\n",
      "|           Heat transfer plate            |      Heat transfer plate       |            GLO             |\n",
      "|     Carbon fibre, from acrylonitrile     | Carbon fibre, from acrylonitri |            GLO             |\n",
      "|      Cathode current collector, LFP      | Cathode current collector, LFP |             JP             |\n",
      "|       Anode current collector, NCA       |  Anode current collector, NCA  |             JP             |\n",
      "|             Module fasteners             |        Module fasteners        |            GLO             |\n",
      "|            Battery cell, LFP             |          Battery cell          |            GLO             |\n",
      "| Hydrogen, gaseous, 700 bar, from dual fl |   Hydrogen, gaseous, 700 bar   |            RER             |\n",
      "|        Biodiesel from cooking oil        |   Biodiesel from cooking oil   |            RER             |\n",
      "| Rapeseed cultivation {RER} | rapeseed pr | Rapeseed cultivation {RER} | r |            RER             |\n",
      "| CO2 storage/at H2 production plant, pre, | CO2 storage/at H2 production p |            RER             |\n",
      "|             Strap retention              |        Strap retention         |            GLO             |\n",
      "|          Glider lightweighting           |     Glider lightweighting      |            GLO             |\n",
      "| biogas upgrading - sewage sludge - amine | biogas upgrading - sewage slud |             CH             |\n",
      "| Hydrogen, gaseous, 700 bar, from ATR of  |   Hydrogen, gaseous, 700 bar   |            RER             |\n",
      "|               Electrolyte                |          Electrolyte           |            GLO             |\n",
      "|         Positive active material         |    Positive active material    |            GLO             |\n",
      "|         Positive electrode paste         |    Positive electrode paste    |            GLO             |\n",
      "| SMR NG + CCS (MDEA), 98 (average), 700 b |     SMR NG + CCS, 700 bar      |             CH             |\n",
      "|         Negative electrode paste         |    Negative electrode paste    |            GLO             |\n",
      "|             Multilayer pouch             |        Multilayer pouch        |            GLO             |\n",
      "| hardwood forestry, mixed species, sustai | hardwood forestry, mixed speci |             CH             |\n",
      "|           End-busbar aluminum            |      End-busbar aluminum       |            GLO             |\n",
      "|          Ethanol from sugarbeet          |     Ethanol from sugarbeet     |            RER             |\n",
      "|        Battery management system         |   Battery management system    |            GLO             |\n",
      "| Crude Palm Oil extraction from FFBs {RER | Crude Palm Oil extraction from |            RER             |\n",
      "|           Ni1/3Co1/3Mn1/3(OH)2           |      Ni1/3Co1/3Mn1/3(OH)2      |            GLO             |\n",
      "| diaphragm compressor module, high pressu | diaphragm compressor module, h |            GLO             |\n",
      "| market for wood chips, wet, measured as  | wood chips, wet, measured as d |             CH             |\n",
      "|            Battery retention             |       Battery retention        |            GLO             |\n",
      "|     PEM electrolyzer, ACDC Converter     | PEM electrolyzer, ACDC Convert |            GLO             |\n",
      "| control panel, carbon dioxide capture pr | control panel, carbon dioxide  |            RER             |\n",
      "|              Cell container              |         Cell container         |            GLO             |\n",
      "| Hydrogen, gaseous, 25 bar, from dual flu |   Hydrogen, gaseous, 25 bar    |            RER             |\n",
      "|  algae harvesting| dry algae production  | algae harvesting| dry algae pr |            RER             |\n",
      "| production of nickle-based catalyst for  | production of nickle-based cat |            RER             |\n",
      "|      pipeline, supercritical CO2/km      | pipeline, supercritical CO2/km |            RER             |\n",
      "| ATR NG + CCS (MDEA), 98 (average), 25 ba |   Hydrogen, gaseous, 25 bar    |            RER             |\n",
      "| storage module, high pressure, at fuelli | storage module, high pressure, |            GLO             |\n",
      "|             Anode paste, LFP             |        Anode paste, LFP        |             JP             |\n",
      "| market for wood chips, wet, measured as  | wood chips, wet, measured as d | Europe without Switzerland |\n",
      "| Crude vegetable oil | oil mill: extracti | Crude vegetable oil | oil mill |            RER             |\n",
      "|               Buffer tank                |          Buffer tank           |            GLO             |\n",
      "|  MTG production facility, construction   | MTG production facility, const |            RER             |\n",
      "|          Textile, carbon cloth           |     Textile, carbon cloth      |            GLO             |\n",
      "|             Module packaging             |        Module packaging        |            GLO             |\n",
      "|                 Cathode                  |            Cathode             |            GLO             |\n",
      "| hot water tank, carbon dioxide capture p | hot water tank, carbon dioxide |            RER             |\n",
      "|              SMR NG, 25 bar              |         SMR NG, 25 bar         |             CH             |\n",
      "|       Anode current collector, LFP       |  Anode current collector, LFP  |             JP             |\n",
      "|           Tray with fasteners            |      Tray with fasteners       |            GLO             |\n",
      "|                Tab Copper                |           Tab Copper           |            GLO             |\n",
      "|             Electrolyte, LFP             |        Electrolyte, LFP        |             JP             |\n",
      "| Hydrogen, gaseous, 25 bar, from gasifica |   Hydrogen, gaseous, 25 bar    |             CH             |\n",
      "|            End-busbar copper             |       End-busbar copper        |            GLO             |\n",
      "|               Outer frame                |          Outer frame           |            GLO             |\n",
      "|              Cobalt sulfate              |         Cobalt sulfate         |            GLO             |\n",
      "|              Bipolar plate               |         Bipolar plate          |            GLO             |\n",
      "|            Battery packaging             |       Battery packaging        |            GLO             |\n",
      "|       Ethanol from forest residues       |  Ethanol from forest residues  |            RER             |\n",
      "| treatment of biowaste by anaerobic diges | treatment of biowaste by anaer |             CH             |\n",
      "|      Positive current collector Al       | Positive current collector Al  |            GLO             |\n",
      "|             Lower retention              |        Lower retention         |            GLO             |\n",
      "| carbon dioxide, captured from atmosphere | carbon dioxide, captured from  |            RER             |\n",
      "| Hydrogen, gaseous, 700 bar, from gasific |   Hydrogen, gaseous, 700 bar   |             CH             |\n",
      "|            Cathode paste, LFP            |       Cathode paste, LFP       |             JP             |\n",
      "|     woodchips from forestry residues     | woodchips from forestry residu |            RER             |\n",
      "|                Tray seal                 |           Tray seal            |            GLO             |\n",
      "| transformer and rectifier unit, for elec | transformer and rectifier unit |            GLO             |\n",
      "|    PEM electrolyzer, Balance of Plant    | PEM electrolyzer, Balance of P |            GLO             |\n",
      "|              Essential BoP               |         Essential BoP          |            GLO             |\n",
      "|   diaphragms, for diaphragm compressor   | diaphragms, for diaphragm comp |            GLO             |\n",
      "| transport, pipeline, supercritical CO2,  | transport, pipeline, supercrit |            RER             |\n",
      "| market for wood chips, wet, measured as  | wood chips, wet, measured as d |             DE             |\n",
      "| SMR NG + CCS (MDEA), 98 (average), 25 ba |   Hydrogen, gaseous, 25 bar    |             CH             |\n",
      "| Plant oil production | refining of crude | Plant oil production | refinin |            RER             |\n",
      "| Wheat grain cultivation, drying and stor | Wheat grain cultivation, dryin |            RER             |\n",
      "| Hydrogen dispenser, for gaseous hydrogen | Hydrogen dispenser, for gaseou |            GLO             |\n",
      "| Fischer Tropsch reactor and upgrading pl | Fischer Tropsch reactor and up |            RER             |\n",
      "|        Carbon monoxide, from RWGS        |   Carbon monoxide, from RWGS   |            RER             |\n",
      "|               Pipe fitting               |          Pipe fitting          |            GLO             |\n",
      "| hardwood forestry, birch, sustainable fo | wood chips, wet, measured as d |             SE             |\n",
      "|                   IBIS                   |              IBIS              |            GLO             |\n",
      "| electricity market for energy storage pr | electricity, low voltage, for  |             CN             |\n"
     ]
    },
    {
     "name": "stdout",
     "output_type": "stream",
     "text": [
      "+------------------------------------------+--------------------------------+----------------------------+\n"
     ]
    }
   ],
   "source": [
    "ndb = NewDatabase(\n",
    "            model=\"remind\", # <-- name of the IAM model\n",
    "            scenario=\"SSP2-Base\", # <-- name of the scenario\n",
    "            year=2028, # <-- year\n",
    "            source_db=\"ecoinvent 3.6 cutoff\", # <-- name of the database\n",
    "            source_version=3.6, # <-- version of ecoinvent\n",
    "            add_passenger_cars = True, # <-- False by default\n",
    "            add_trucks = True # <-- False by default\n",
    "                 )"
   ]
  },
  {
   "cell_type": "markdown",
   "metadata": {},
   "source": [
    "If you want to limit the inventories of passenger cars and trucks to specific regions, you need to pass a dictionary instead, like so:"
   ]
  },
  {
   "cell_type": "code",
   "execution_count": 3,
   "metadata": {},
   "outputs": [
    {
     "name": "stdout",
     "output_type": "stream",
     "text": [
      "No fleet composition file is provided, hence fleet average vehicles inventories will not be produced.\n",
      "No fleet composition file is provided, hence fleet average truck inventories will not be produced.\n",
      "\n",
      "////////////////////// EXTRACTING SOURCE DATABASE ///////////////////////\n",
      "Getting activity data\n"
     ]
    },
    {
     "name": "stderr",
     "output_type": "stream",
     "text": [
      "100%|█████████████████████████████████| 18121/18121 [00:00<00:00, 59768.13it/s]\n"
     ]
    },
    {
     "name": "stdout",
     "output_type": "stream",
     "text": [
      "Adding exchange data to activities\n"
     ]
    },
    {
     "name": "stderr",
     "output_type": "stream",
     "text": [
      "100%|███████████████████████████████| 615644/615644 [00:41<00:00, 14691.03it/s]\n"
     ]
    },
    {
     "name": "stdout",
     "output_type": "stream",
     "text": [
      "Filling out exchange data\n"
     ]
    },
    {
     "name": "stderr",
     "output_type": "stream",
     "text": [
      "100%|██████████████████████████████████| 18121/18121 [00:03<00:00, 5594.63it/s]\n"
     ]
    },
    {
     "name": "stdout",
     "output_type": "stream",
     "text": [
      "Set missing location of datasets to global scope.\n",
      "Set missing location of production exchanges to scope of dataset.\n",
      "Correct missing location of technosphere exchanges.\n",
      "Remove empty exchanges.\n",
      "\n",
      "/////////////////// IMPORTING ADDITIONAL INVENTORIES ////////////////////\n",
      "Extracted 1 worksheets in 0.15 seconds\n",
      "Extracted 1 worksheets in 0.12 seconds\n",
      "Applying strategy: migrate_datasets\n",
      "Applying strategy: migrate_exchanges\n",
      "Extracted 1 worksheets in 0.01 seconds\n",
      "Extracted 1 worksheets in 0.01 seconds\n",
      "Applying strategy: migrate_datasets\n",
      "Applying strategy: migrate_exchanges\n",
      "Extracted 1 worksheets in 0.02 seconds\n",
      "Extracted 1 worksheets in 0.01 seconds\n",
      "Applying strategy: migrate_datasets\n",
      "Applying strategy: migrate_exchanges\n",
      "Add fossil carbon dioxide storage for CCS technologies.\n",
      "Extracted 1 worksheets in 0.01 seconds\n",
      "Extracted 1 worksheets in 0.01 seconds\n",
      "Extracted 1 worksheets in 0.02 seconds\n",
      "Extracted 1 worksheets in 0.01 seconds\n",
      "Extracted 1 worksheets in 0.01 seconds\n",
      "Extracted 1 worksheets in 0.01 seconds\n",
      "Extracted 1 worksheets in 0.02 seconds\n",
      "Extracted 1 worksheets in 0.02 seconds\n",
      "Extracted 1 worksheets in 0.01 seconds\n",
      "Extracted 1 worksheets in 0.02 seconds\n",
      "Extracted 1 worksheets in 0.01 seconds\n",
      "Extracted 1 worksheets in 0.01 seconds\n",
      "Extracted 1 worksheets in 0.02 seconds\n",
      "Extracted 1 worksheets in 0.03 seconds\n",
      "Applying strategy: migrate_datasets\n",
      "Applying strategy: migrate_exchanges\n",
      "Extracted 1 worksheets in 0.04 seconds\n",
      "Extracted 1 worksheets in 0.04 seconds\n",
      "Extracted 1 worksheets in 0.01 seconds\n",
      "Extracted 1 worksheets in 0.01 seconds\n",
      "Extracted 1 worksheets in 0.02 seconds\n",
      "Extracted 1 worksheets in 0.02 seconds\n",
      "Extracted 1 worksheets in 0.01 seconds\n",
      "Extracted 1 worksheets in 0.01 seconds\n",
      "Extracted 1 worksheets in 0.04 seconds\n",
      "Extracted 1 worksheets in 0.04 seconds\n",
      "Extracted 1 worksheets in 0.02 seconds\n",
      "Extracted 1 worksheets in 0.02 seconds\n"
     ]
    },
    {
     "name": "stderr",
     "output_type": "stream",
     "text": [
      "C:\\Users\\sacchi_r\\AppData\\Local\\Continuum\\miniconda3\\envs\\coarse\\lib\\site-packages\\scipy\\sparse\\linalg\\dsolve\\linsolve.py:133: SparseEfficiencyWarning: spsolve requires A be CSC or CSR matrix format\n",
      "  SparseEfficiencyWarning)\n",
      "C:\\Users\\sacchi_r\\AppData\\Local\\Continuum\\miniconda3\\envs\\coarse\\lib\\site-packages\\scipy\\sparse\\linalg\\dsolve\\linsolve.py:133: SparseEfficiencyWarning: spsolve requires A be CSC or CSR matrix format\n",
      "  SparseEfficiencyWarning)\n"
     ]
    },
    {
     "name": "stdout",
     "output_type": "stream",
     "text": [
      "****************** IMPORTANT BACKGROUND PARAMETERS ******************\n",
      " * The country of use is EUR\n",
      " * Power and energy batteries produced in CN using NMC chemistry.\n",
      " * in 2028, % of renewable: 24.0%, GHG intensity per kWh: 474 g. CO2-eq.\n",
      " * electrolysis is completed by smr - natural gas.\n",
      " \t * in 2028 _________________________________________ 0%\n",
      " * cng is completed by biogas - biowaste.\n",
      " \t * in 2028 _________________________________________ 0.0%\n",
      " * diesel is completed by biodiesel - cooking oil and synthetic diesel.\n",
      " \t * in 2028 _________________ 5.0% _________________ 0.0%\n",
      " * petrol is completed by bioethanol - wheat straw and synthetic gasoline.\n",
      " \t * in 2028 _________________ 5.0% _________________ 0.0%\n",
      " * *********************************************************************\n"
     ]
    },
    {
     "name": "stderr",
     "output_type": "stream",
     "text": [
      "0% [##############################] 100% | ETA: 00:00:00 | Item ID: 855\n",
      "Total time elapsed: 00:00:00\n",
      "C:\\Users\\sacchi_r\\AppData\\Local\\Continuum\\miniconda3\\envs\\coarse\\lib\\site-packages\\scipy\\sparse\\linalg\\dsolve\\linsolve.py:133: SparseEfficiencyWarning: spsolve requires A be CSC or CSR matrix format\n",
      "  SparseEfficiencyWarning)\n",
      "C:\\Users\\sacchi_r\\AppData\\Local\\Continuum\\miniconda3\\envs\\coarse\\lib\\site-packages\\scipy\\sparse\\linalg\\dsolve\\linsolve.py:133: SparseEfficiencyWarning: spsolve requires A be CSC or CSR matrix format\n",
      "  SparseEfficiencyWarning)\n"
     ]
    },
    {
     "name": "stdout",
     "output_type": "stream",
     "text": [
      "****************** IMPORTANT BACKGROUND PARAMETERS ******************\n",
      " * The country of use is USA\n",
      " * Power and energy batteries produced in CN using NMC chemistry.\n",
      " * in 2028, % of renewable: 12.0%, GHG intensity per kWh: 632 g. CO2-eq.\n",
      " * electrolysis is completed by smr - natural gas.\n",
      " \t * in 2028 _________________________________________ 0%\n",
      " * cng is completed by biogas - biowaste.\n",
      " \t * in 2028 _________________________________________ 0.0%\n",
      " * diesel is completed by biodiesel - cooking oil and synthetic diesel.\n",
      " \t * in 2028 _________________ 4.0% _________________ 0.0%\n",
      " * petrol is completed by bioethanol - wheat straw and synthetic gasoline.\n",
      " \t * in 2028 _________________ 4.0% _________________ 0.0%\n",
      " * *********************************************************************\n"
     ]
    },
    {
     "name": "stderr",
     "output_type": "stream",
     "text": [
      "0% [##############################] 100% | ETA: 00:00:00 | Item ID: 855\n",
      "Total time elapsed: 00:00:00\n"
     ]
    },
    {
     "name": "stdout",
     "output_type": "stream",
     "text": [
      "The following datasets to import already exist in the source database. They will not be imported\n",
      "+------------------------------------------+--------------------------------+----------------------------+\n",
      "|                   Name                   |       Reference product        |          Location          |\n",
      "+------------------------------------------+--------------------------------+----------------------------+\n",
      "| Hydrogen, gaseous, 25 bar, from dual flu |   Hydrogen, gaseous, 25 bar    |             CH             |\n",
      "| Hydrogen, gaseous, 700 bar, from gasific |   Hydrogen, gaseous, 700 bar   |             CH             |\n",
      "| hardwood forestry, oak, sustainable fore | wood chips, wet, measured as d |             DE             |\n",
      "| production of 2 wt-% potassium iodide so | production of 2 wt-% potassium |            RER             |\n",
      "| Hydrogen, gaseous, 700 bar, from ATR of  |   Hydrogen, gaseous, 700 bar   |            RER             |\n",
      "| transport, pipeline, supercritical CO2,  | transport, pipeline, supercrit |            RER             |\n",
      "| storage module, high pressure, at fuelli | storage module, high pressure, |            GLO             |\n",
      "| market for wood chips, wet, measured as  | wood chips, wet, measured as d |             CH             |\n",
      "|        Carbon monoxide, from RWGS        |   Carbon monoxide, from RWGS   |            RER             |\n",
      "|         Biodiesel from palm oil          |    Biodiesel from palm oil     |            RER             |\n",
      "| Maize cultivation, drying and storage {R | Maize cultivation, drying and  |            RER             |\n",
      "| diaphragm compressor module, high pressu | diaphragm compressor module, h |            GLO             |\n",
      "|  MTG production facility, construction   | MTG production facility, const |            RER             |\n",
      "| softwood forestry, pine, sustainable for | wood chips, wet, measured as d |             SE             |\n",
      "|          RWGS tank construction          |     RWGS tank construction     |            GLO             |\n",
      "| Hydrogen, gaseous, 700 bar, from SMR of  |   Hydrogen, gaseous, 700 bar   |            RER             |\n",
      "| market for wood chips, wet, measured as  | wood chips, wet, measured as d |             DE             |\n",
      "| Hydrogen, gaseous, 700 bar, from dual fl |   Hydrogen, gaseous, 700 bar   |            RER             |\n",
      "|              RWGS catalyst               |         RWGS catalyst          |            RER             |\n",
      "| Hydrogen, gaseous, 25 bar, from gasifica |   Hydrogen, gaseous, 25 bar    |             CH             |\n",
      "| control panel, carbon dioxide capture pr | control panel, carbon dioxide  |            RER             |\n",
      "| wiring and tubing, carbon dioxide captur | wiring and tubing, carbon diox |            RER             |\n",
      "| Diesel production, synthetic, Fischer Tr |       Diesel, synthetic        |            RER             |\n",
      "|   diaphragms, for diaphragm compressor   | diaphragms, for diaphragm comp |            GLO             |\n",
      "| Hydrogen, gaseous, 700 bar, from gasific |   Hydrogen, gaseous, 700 bar   |            RER             |\n",
      "|       Ethanol from forest residues       |  Ethanol from forest residues  |            RER             |\n",
      "| hardwood forestry, birch, sustainable fo | wood chips, wet, measured as d |             SE             |\n",
      "| Crude Palm Oil extraction from FFBs {RER | Crude Palm Oil extraction from |            RER             |\n",
      "| Hydrogen, gaseous, 700 bar, from dual fl |   Hydrogen, gaseous, 700 bar   |            RER             |\n",
      "| Crude vegetable oil | oil mill: extracti | Crude vegetable oil | oil mill |            RER             |\n",
      "|               Buffer tank                |          Buffer tank           |            GLO             |\n",
      "| ATR NG + CCS (MDEA), 98 (average), 25 ba |   Hydrogen, gaseous, 25 bar    |            RER             |\n",
      "| Hydrogen, gaseous, 700 bar, ATR of NG, w |   Hydrogen, gaseous, 700 bar   |            RER             |\n",
      "| Plant oil from crude oil | refining of v | Plant oil from crude oil | ref |            RER             |\n",
      "| Hydrogen, gaseous, 700 bar, from gasific |   Hydrogen, gaseous, 700 bar   |             CH             |\n",
      "| production of nickle-based catalyst for  | production of nickle-based cat |            RER             |\n",
      "| Walls and foundations, for hydrogen refu | Walls and foundations, for hyd |            RER             |\n",
      "| CO2 storage/at H2 production plant, pre, | CO2 storage/at H2 production p |            RER             |\n",
      "| Hydrogen, gaseous, 700 bar, ATR of NG, a |   Hydrogen, gaseous, 700 bar   |            RER             |\n",
      "| hot water tank, carbon dioxide capture p | hot water tank, carbon dioxide |            RER             |\n",
      "| Hydrogen, gaseous, 25 bar, from dual flu |   Hydrogen, gaseous, 25 bar    |            RER             |\n",
      "| algae cultivation | algae broth producti | algae cultivation | algae brot |            RER             |\n",
      "| Hydrogen, gaseous, 700 bar, from dual fl |   Hydrogen, gaseous, 700 bar   |             CH             |\n",
      "| Hydrogen, gaseous, 25 bar, from dual flu |   Hydrogen, gaseous, 25 bar    |            RER             |\n",
      "| Hydrogen, gaseous, 700 bar, from electro |   Hydrogen, gaseous, 700 bar   |            RER             |\n",
      "|              straw pellets               |         straw pellets          |            RER             |\n",
      "| Oil Palm Tree Cultivation {RER} | Fresh  | Oil Palm Tree Cultivation {RER |            RER             |\n",
      "|     Gas-to-liquid plant construction     |      Gas-to-liquid plant       |            GLO             |\n",
      "| transformer and rectifier unit, for elec | transformer and rectifier unit |            GLO             |\n",
      "|     Ethanol from wheat straw pellets     | Ethanol from wheat straw pelle |            RER             |\n",
      "| Hydrogen, gaseous, 25 bar, from gasifica |   Hydrogen, gaseous, 25 bar    |            RER             |\n",
      "|     woodchips from forestry residues     | woodchips from forestry residu |            RER             |\n",
      "| SMR NG + CCS (MDEA), 98 (average), 25 ba |   Hydrogen, gaseous, 25 bar    |             CH             |\n",
      "|  pumps, carbon dioxide capture process   | pumps, carbon dioxide capture  |            RER             |\n",
      "| Hydrogen, gaseous, 30 bar, from hard coa |   Hydrogen, gaseous, 30 bar    |            RER             |\n",
      "| adsorption and desorption unit, carbon d | adsorption and desorption unit |            RER             |\n",
      "| softwood forestry, mixed species, sustai | softwood forestry, mixed speci |             CH             |\n",
      "|          Methanol distillation           |       Purified methanol        |            RER             |\n",
      "| Hydrogen, gaseous, 700 bar, from SMR of  |   Hydrogen, gaseous, 700 bar   |            RER             |\n",
      "|     Hydrogen refuelling station, SMR     | Hydrogen refuelling station, S |            GLO             |\n",
      "| frequency converter, for diaphragm compr | frequency converter, for diaph |            GLO             |\n",
      "|        Biodiesel from cooking oil        |   Biodiesel from cooking oil   |            RER             |\n",
      "| transport, pipeline, supercritical CO2,  | transport, pipeline, supercrit |            RER             |\n",
      "| Hydrogen, gaseous, 700 bar, from dual fl |   Hydrogen, gaseous, 700 bar   |             CH             |\n",
      "| Refined Waste Cooking Oil {RER} | Refini | Refined Waste Cooking Oil {RER |            RER             |\n",
      "| ATR BM, with digestate incineration, 25  |   Hydrogen, gaseous, 25 bar    |             CH             |\n",
      "|     PEM electrolyzer, ACDC Converter     | PEM electrolyzer, ACDC Convert |            GLO             |\n",
      "|    Sabatier reaction methanation unit    | Sabatier reaction methanation  |            RER             |\n",
      "| Diesel production, synthetic, Fischer Tr |       Diesel, synthetic        |            RER             |\n",
      "| SMR BM, HT+LT, + CCS (MDEA), 98 (average |   Hydrogen, gaseous, 26 bar    |             CH             |\n",
      "| Plant oil production | refining of crude | Plant oil production | refinin |            RER             |\n",
      "|          ethanol without biogas          |     ethanol without biogas     |            RER             |\n",
      "| Hydrogen, gaseous, 700 bar, from gasific |   Hydrogen, gaseous, 700 bar   |            RER             |\n",
      "|       Biodiesel from rapeseed oil        |  Biodiesel from rapeseed oil   |            RER             |\n",
      "| Hydrogen, gaseous, 25 bar, from gasifica |   Hydrogen, gaseous, 25 bar    |             CH             |\n",
      "| Wheat grain cultivation, drying and stor | Wheat grain cultivation, dryin |            RER             |\n",
      "| Hydrogen, gaseous, 25 bar, from dual flu |   Hydrogen, gaseous, 25 bar    |             CH             |\n",
      "| Hydrogen, gaseous, 700 bar, from ATR of  |   Hydrogen, gaseous, 700 bar   |            RER             |\n",
      "|  algae harvesting| dry algae production  | algae harvesting| dry algae pr |            RER             |\n",
      "|         Syngas, RWGS, Production         |    Syngas, RWGS, Production    |            RER             |\n",
      "| market for wood chips, wet, measured as  | wood chips, wet, measured as d |             SE             |\n",
      "|      carbon dioxide capture system       | carbon dioxide capture system  |            RER             |\n",
      "|        Ethanol from maize starch         |   Ethanol from maize starch    |            RER             |\n",
      "| softwood forestry, spruce, sustainable f | wood chips, wet, measured as d |             DE             |\n",
      "| SMR NG + CCS (MDEA), 98 (average), 700 b |     SMR NG + CCS, 700 bar      |             CH             |\n",
      "|    PEM electrolyzer, Balance of Plant    | PEM electrolyzer, Balance of P |            GLO             |\n",
      "| PEM electrolyzer, Operation and Maintena | PEM electrolyzer, Operation an |            RER             |\n",
      "| Hydrogen, gaseous, 25 bar, from electrol |   Hydrogen, gaseous, 25 bar    |            RER             |\n",
      "| Hydrogen, gaseous, 700 bar, from SMR of  |   Hydrogen, gaseous, 700 bar   |            RER             |\n",
      "| carbon dioxide, captured from atmosphere | carbon dioxide, captured from  |            RER             |\n",
      "| softwood forestry, pine, sustainable for | wood chips, wet, measured as d |             DE             |\n",
      "|             SMR NG, 700 bar              |        SMR NG, 700 bar         |             CH             |\n",
      "| hardwood forestry, beech, sustainable fo | wood chips, wet, measured as d |             DE             |\n",
      "| Hydrogen, gaseous, 700 bar, from SMR of  |   Hydrogen, gaseous, 700 bar   |            RER             |\n",
      "| Gasoline production, synthetic, from met |      Gasoline, synthetic       |            RER             |\n",
      "|          Ethanol from sugarbeet          |     Ethanol from sugarbeet     |            RER             |\n",
      "|      Straw bales | baling of straw       | Straw bales | baling of straw  |            RER             |\n",
      "| heat exchanger, carbon dioxide capture p | heat exchanger, carbon dioxide |            RER             |\n",
      "|         PEM electrolyzer, Stack          |    PEM electrolyzer, Stack     |            GLO             |\n",
      "|           Biodiesel from algae           |      Biodiesel from algae      |            RER             |\n",
      "|        Ethanol from wheat grains         |   Ethanol from wheat grains    |            RER             |\n",
      "| SMR BM, HT+LT, with digestate incinerati |   Hydrogen, gaseous, 26 bar    |             CH             |\n",
      "| container, with pipes and fittings, for  | container, with pipes and fitt |            GLO             |\n",
      "| softwood forestry, spruce, sustainable f | wood chips, wet, measured as d |             SE             |\n",
      "|   Disposal, hydrogen fuelling station    | Disposal, hydrogen fuelling st |            RER             |\n",
      "|              SMR NG, 25 bar              |         SMR NG, 25 bar         |             CH             |\n",
      "|            Methanol Synthesis            |      Methanol, unpurified      |            RER             |\n",
      "|      pipeline, supercritical CO2/km      | pipeline, supercritical CO2/km |            RER             |\n",
      "| cooling unit, carbon dioxide capture pro | cooling unit, carbon dioxide c |            RER             |\n",
      "| market for wood chips, wet, measured as  | wood chips, wet, measured as d | Europe without Switzerland |\n",
      "| Sugar beet cultivation {RER} | sugar bee | Sugar beet cultivation {RER} | |            RER             |\n",
      "| ATR BM + CCS (MDEA), 98 (average), with  |   Hydrogen, gaseous, 25 bar    |             CH             |\n",
      "| Hydrogen, gaseous, 25 bar, from gasifica |   Hydrogen, gaseous, 25 bar    |            RER             |\n",
      "| Rapeseed cultivation {RER} | rapeseed pr | Rapeseed cultivation {RER} | r |            RER             |\n",
      "|        drilling, deep borehole/m         |   drilling, deep borehole/m    |            RER             |\n",
      "| hardwood forestry, mixed species, sustai | hardwood forestry, mixed speci |             CH             |\n",
      "|              ATR NG, 25 bar              |   Hydrogen, gaseous, 25 bar    |            RER             |\n",
      "|        Fixed bed reactor for RWGS        |       Fixed bed reactor        |            RER             |\n",
      "| Hydrogen dispenser, for gaseous hydrogen | Hydrogen dispenser, for gaseou |            GLO             |\n"
     ]
    },
    {
     "name": "stdout",
     "output_type": "stream",
     "text": [
      "+------------------------------------------+--------------------------------+----------------------------+\n",
      "Regional delivery driving cycle is selected. Vehicles will be designed to achieve a minimal range of 400 km.\n",
      "\n",
      "Capacity utilization assumed (share of available payload used)\n",
      "+----------------+------+------+------+------+------+------+------+\n",
      "|                | 3.5t | 7.5t | 18t  | 26t  | 32t  | 40t  | 60t  |\n",
      "+----------------+------+------+------+------+------+------+------+\n",
      "|   BEV, 2028    | 0.6  | 0.41 | 0.42 | 0.38 | 0.36 | 0.36 | 0.36 |\n",
      "|   FCEV, 2028   | 0.6  | 0.41 | 0.42 | 0.38 | 0.36 | 0.36 | 0.36 |\n",
      "|  HEV-d, 2028   | 0.6  | 0.41 | 0.42 | 0.38 | 0.36 | 0.36 | 0.36 |\n",
      "|  ICEV-d, 2028  | 0.6  | 0.41 | 0.42 | 0.38 | 0.36 | 0.36 | 0.36 |\n",
      "|  ICEV-g, 2028  | 0.6  | 0.41 | 0.42 | 0.38 | 0.36 | 0.36 | 0.36 |\n",
      "| PHEV-c-d, 2028 | 0.6  | 0.41 | 0.42 | 0.38 | 0.36 | 0.36 | 0.36 |\n",
      "|  PHEV-d, 2028  | 0.6  | 0.41 | 0.42 | 0.38 | 0.36 | 0.36 | 0.36 |\n",
      "|  PHEV-e, 2028  | 0.6  | 0.41 | 0.42 | 0.38 | 0.36 | 0.36 | 0.36 |\n",
      "+----------------+------+------+------+------+------+------+------+\n",
      "Finding solutions for trucks...\n",
      "\n",
      "Payload (in tons)\n",
      "'-' BEV with driving mass superior to the permissible gross weight.\n",
      "'*' ICEV that do not comply wih energy reduction target.\n",
      "'/' vehicles not available for the specified year.\n",
      "+--------------+------+------+-----+-----+-----+-----+------+\n",
      "|              | 3.5t | 7.5t | 18t | 26t | 32t | 40t | 60t  |\n",
      "+--------------+------+------+-----+-----+-----+-----+------+\n",
      "| ICEV-d, 2028 | 0.9  | 1.6  | 4.6 | 6.8 | 7.3 | 9.7 | 14.8 |\n",
      "| ICEV-g, 2028 | 0.8  | 1.5  | 4.5 | 6.7 | 7.2 | 9.6 | 14.6 |\n",
      "| PHEV-d, 2028 | 0.5  | 1.2  | 3.9 | 6.1 | 6.3 | 8.7 | 13.6 |\n",
      "|  FCEV, 2028  | 1.0  | 1.7  | 4.8 | 7.0 | 7.4 | 9.9 | 14.9 |\n",
      "|  BEV, 2028   | 0.5  | 1.2  | 3.9 | 6.1 | 6.3 | 8.7 | 13.5 |\n",
      "| HEV-d, 2028  | 0.9  | 1.6  | 4.7 | 6.8 | 7.3 | 9.8 | 14.8 |\n",
      "+--------------+------+------+-----+-----+-----+-----+------+\n"
     ]
    },
    {
     "name": "stderr",
     "output_type": "stream",
     "text": [
      "C:\\Users\\sacchi_r\\AppData\\Local\\Continuum\\miniconda3\\envs\\coarse\\lib\\site-packages\\scipy\\sparse\\linalg\\dsolve\\linsolve.py:133: SparseEfficiencyWarning: spsolve requires A be CSC or CSR matrix format\n",
      "  SparseEfficiencyWarning)\n",
      "C:\\Users\\sacchi_r\\AppData\\Local\\Continuum\\miniconda3\\envs\\coarse\\lib\\site-packages\\scipy\\sparse\\linalg\\dsolve\\linsolve.py:133: SparseEfficiencyWarning: spsolve requires A be CSC or CSR matrix format\n",
      "  SparseEfficiencyWarning)\n"
     ]
    },
    {
     "name": "stdout",
     "output_type": "stream",
     "text": [
      "****************** IMPORTANT BACKGROUND PARAMETERS ******************\n",
      " * The country of use is CH\n",
      " * Energy batteries produced in CN using NMC chemistry.\n",
      " * in 2028, % of renewable: 24.0%, GHG intensity per kWh: 475 g. CO2-eq.\n",
      " * electrolysis is completed by smr - natural gas.\n",
      " \t * in 2028 _________________________________________ 0.0%\n",
      " * cng is completed by biogas - sewage sludge.\n",
      " \t * in 2028 _________________________________________ 0.0%\n",
      " * diesel is completed by biodiesel - cooking oil.\n",
      " \t * in 2028 _________________________________________ 0.0%\n",
      " * *********************************************************************\n"
     ]
    },
    {
     "name": "stderr",
     "output_type": "stream",
     "text": [
      "0% [##############################] 100% | ETA: 00:00:00 | Item ID: 866\n",
      "Total time elapsed: 00:00:00\n",
      "C:\\Users\\sacchi_r\\AppData\\Local\\Continuum\\miniconda3\\envs\\coarse\\lib\\site-packages\\scipy\\sparse\\linalg\\dsolve\\linsolve.py:133: SparseEfficiencyWarning: spsolve requires A be CSC or CSR matrix format\n",
      "  SparseEfficiencyWarning)\n",
      "C:\\Users\\sacchi_r\\AppData\\Local\\Continuum\\miniconda3\\envs\\coarse\\lib\\site-packages\\scipy\\sparse\\linalg\\dsolve\\linsolve.py:133: SparseEfficiencyWarning: spsolve requires A be CSC or CSR matrix format\n",
      "  SparseEfficiencyWarning)\n"
     ]
    },
    {
     "name": "stdout",
     "output_type": "stream",
     "text": [
      "****************** IMPORTANT BACKGROUND PARAMETERS ******************\n",
      " * The country of use is CH\n",
      " * Energy batteries produced in CN using NMC chemistry.\n",
      " * in 2028, % of renewable: 12.0%, GHG intensity per kWh: 633 g. CO2-eq.\n",
      " * electrolysis is completed by smr - natural gas.\n",
      " \t * in 2028 _________________________________________ 0.0%\n",
      " * cng is completed by biogas - sewage sludge.\n",
      " \t * in 2028 _________________________________________ 0.0%\n",
      " * diesel is completed by biodiesel - cooking oil.\n",
      " \t * in 2028 _________________________________________ 0.0%\n",
      " * *********************************************************************\n"
     ]
    },
    {
     "name": "stderr",
     "output_type": "stream",
     "text": [
      "0% [##############################] 100% | ETA: 00:00:00 | Item ID: 866\n",
      "Total time elapsed: 00:00:00\n"
     ]
    },
    {
     "name": "stdout",
     "output_type": "stream",
     "text": [
      "The following datasets to import already exist in the source database. They will not be imported\n",
      "+------------------------------------------+--------------------------------+----------------------------+\n",
      "|                   Name                   |       Reference product        |          Location          |\n",
      "+------------------------------------------+--------------------------------+----------------------------+\n",
      "| Hydrogen, gaseous, 25 bar, from dual flu |   Hydrogen, gaseous, 25 bar    |             CH             |\n",
      "| Hydrogen, gaseous, 700 bar, from gasific |   Hydrogen, gaseous, 700 bar   |             CH             |\n",
      "|              Essential BoP               |         Essential BoP          |            GLO             |\n",
      "| hardwood forestry, oak, sustainable fore | wood chips, wet, measured as d |             DE             |\n",
      "| production of 2 wt-% potassium iodide so | production of 2 wt-% potassium |            RER             |\n",
      "| Fuel tank, compressed hydrogen gas, 700b |         Hydrogen tank          |            RER             |\n",
      "| Hydrogen, gaseous, 700 bar, from ATR of  |   Hydrogen, gaseous, 700 bar   |            RER             |\n",
      "|      Bimetallic busbars and washers      | Bimetallic busbars and washers |            GLO             |\n",
      "|            Battery cell, NCA             |          Battery cell          |            GLO             |\n",
      "|                  Stack                   |             Stack              |            GLO             |\n",
      "|         Positive electrode paste         |    Positive electrode paste    |            GLO             |\n",
      "| transport, pipeline, supercritical CO2,  | transport, pipeline, supercrit |            RER             |\n",
      "| storage module, high pressure, at fuelli | storage module, high pressure, |            GLO             |\n",
      "| market for wood chips, wet, measured as  | wood chips, wet, measured as d |             CH             |\n",
      "|        Carbon monoxide, from RWGS        |   Carbon monoxide, from RWGS   |            RER             |\n",
      "|              IBIS fasteners              |         IBIS fasteners         |            GLO             |\n",
      "|         Biodiesel from palm oil          |    Biodiesel from palm oil     |            RER             |\n",
      "| diaphragm compressor module, high pressu | diaphragm compressor module, h |            GLO             |\n",
      "| Maize cultivation, drying and storage {R | Maize cultivation, drying and  |            RER             |\n",
      "| Hydrogen, gaseous, 700 bar, from coal ga |   Hydrogen, gaseous, 700 bar   |            RER             |\n",
      "|  MTG production facility, construction   | MTG production facility, const |            RER             |\n",
      "| Fuel tank, compressed hydrogen gas, 700b | Fuel tank, compressed hydrogen |            GLO             |\n",
      "| softwood forestry, pine, sustainable for | wood chips, wet, measured as d |             SE             |\n",
      "|               Pipe fitting               |          Pipe fitting          |            GLO             |\n",
      "|              Separator, LFP              |         Separator, LFP         |             JP             |\n",
      "|          RWGS tank construction          |     RWGS tank construction     |            GLO             |\n",
      "| Hydrogen, gaseous, 700 bar, from SMR of  |   Hydrogen, gaseous, 700 bar   |            RER             |\n",
      "|                End plate                 |           End plate            |            GLO             |\n",
      "| treatment of biowaste by anaerobic diges | treatment of biowaste by anaer |             CH             |\n",
      "|               Outer frame                |          Outer frame           |            GLO             |\n",
      "|              Cobalt sulfate              |         Cobalt sulfate         |            GLO             |\n",
      "| market for wood chips, wet, measured as  | wood chips, wet, measured as d |             DE             |\n",
      "| Hydrogen, gaseous, 700 bar, from dual fl |   Hydrogen, gaseous, 700 bar   |            RER             |\n",
      "|             Strap retention              |        Strap retention         |            GLO             |\n",
      "|              RWGS catalyst               |         RWGS catalyst          |            RER             |\n",
      "| Hydrogen, gaseous, 25 bar, from gasifica |   Hydrogen, gaseous, 25 bar    |             CH             |\n",
      "| control panel, carbon dioxide capture pr | control panel, carbon dioxide  |            RER             |\n",
      "| wiring and tubing, carbon dioxide captur | wiring and tubing, carbon diox |            RER             |\n",
      "| Diesel production, synthetic, Fischer Tr |       Diesel, synthetic        |            RER             |\n",
      "|               Tab Aluminum               |          Tab Aluminum          |            GLO             |\n",
      "|   diaphragms, for diaphragm compressor   | diaphragms, for diaphragm comp |            GLO             |\n",
      "|     Lithium iron phosphate [LiFePO4]     | Lithium iron phosphate [LiFePO |             JP             |\n",
      "| Hydrogen, gaseous, 700 bar, from gasific |   Hydrogen, gaseous, 700 bar   |            RER             |\n",
      "|           Tray with fasteners            |      Tray with fasteners       |            GLO             |\n",
      "|       Ethanol from forest residues       |  Ethanol from forest residues  |            RER             |\n",
      "| Crude Palm Oil extraction from FFBs {RER | Crude Palm Oil extraction from |            RER             |\n",
      "| hardwood forestry, birch, sustainable fo | wood chips, wet, measured as d |             SE             |\n",
      "|            End-busbar copper             |       End-busbar copper        |            GLO             |\n",
      "|         Negative electrode paste         |    Negative electrode paste    |            GLO             |\n",
      "| Hydrogen, gaseous, 700 bar, from dual fl |   Hydrogen, gaseous, 700 bar   |            RER             |\n",
      "|      Selective coating, sputtering       | Selective coating, sputtering  |            GLO             |\n",
      "| Crude vegetable oil | oil mill: extracti | Crude vegetable oil | oil mill |            RER             |\n",
      "|               Buffer tank                |          Buffer tank           |            GLO             |\n",
      "|              Separator, NCA              |         Separator, NCA         |             JP             |\n",
      "| ATR NG + CCS (MDEA), 98 (average), 25 ba |   Hydrogen, gaseous, 25 bar    |            RER             |\n",
      "|        Battery management system         |   Battery management system    |            GLO             |\n",
      "| Hydrogen, gaseous, 700 bar, ATR of NG, w |   Hydrogen, gaseous, 700 bar   |            RER             |\n",
      "| Plant oil from crude oil | refining of v | Plant oil from crude oil | ref |            RER             |\n",
      "| Hydrogen, gaseous, 700 bar, from gasific |   Hydrogen, gaseous, 700 bar   |             CH             |\n",
      "| production of nickle-based catalyst for  | production of nickle-based cat |            RER             |\n",
      "|             Electrolyte, LFP             |        Electrolyte, LFP        |             JP             |\n",
      "| Walls and foundations, for hydrogen refu | Walls and foundations, for hyd |            RER             |\n",
      "|             MEA hot pressing             |        MEA hot pressing        |            GLO             |\n",
      "|      Positive current collector Al       | Positive current collector Al  |            GLO             |\n",
      "| CO2 storage/at H2 production plant, pre, | CO2 storage/at H2 production p |            RER             |\n",
      "| Hydrogen, gaseous, 700 bar, ATR of NG, a |   Hydrogen, gaseous, 700 bar   |            RER             |\n",
      "|            Battery packaging             |       Battery packaging        |            GLO             |\n",
      "|               Electrolyte                |          Electrolyte           |            GLO             |\n",
      "| hot water tank, carbon dioxide capture p | hot water tank, carbon dioxide |            RER             |\n",
      "| Hydrogen, gaseous, 25 bar, from dual flu |   Hydrogen, gaseous, 25 bar    |            RER             |\n",
      "| algae cultivation | algae broth producti | algae cultivation | algae brot |            RER             |\n",
      "| Hydrogen, gaseous, 700 bar, from dual fl |   Hydrogen, gaseous, 700 bar   |             CH             |\n",
      "| Hydrogen, gaseous, 25 bar, from dual flu |   Hydrogen, gaseous, 25 bar    |            RER             |\n",
      "|            Cathode paste, LFP            |       Cathode paste, LFP       |             JP             |\n",
      "| Hydrogen, gaseous, 700 bar, from electro |   Hydrogen, gaseous, 700 bar   |            RER             |\n",
      "|              straw pellets               |         straw pellets          |            RER             |\n",
      "| Oil Palm Tree Cultivation {RER} | Fresh  | Oil Palm Tree Cultivation {RER |            RER             |\n",
      "|     Gas-to-liquid plant construction     |      Gas-to-liquid plant       |            GLO             |\n",
      "| transformer and rectifier unit, for elec | transformer and rectifier unit |            GLO             |\n",
      "|      Cathode current collector, LFP      | Cathode current collector, LFP |             JP             |\n",
      "|     Ethanol from wheat straw pellets     | Ethanol from wheat straw pelle |            RER             |\n",
      "| Hydrogen, gaseous, 25 bar, from gasifica |   Hydrogen, gaseous, 25 bar    |            RER             |\n",
      "| Fuel tank, compressed hydrogen gas, 700b |         Hydrogen tank          |            RER             |\n",
      "|     woodchips from forestry residues     | woodchips from forestry residu |            RER             |\n",
      "|              Cell container              |         Cell container         |            GLO             |\n",
      "| SMR NG + CCS (MDEA), 98 (average), 25 ba |   Hydrogen, gaseous, 25 bar    |             CH             |\n",
      "|  pumps, carbon dioxide capture process   | pumps, carbon dioxide capture  |            RER             |\n",
      "|              Catalyst layer              |         Catalyst layer         |            GLO             |\n",
      "|            Low voltage system            |       Low voltage system       |            GLO             |\n",
      "|       Anode current collector, NCA       |  Anode current collector, NCA  |             JP             |\n",
      "| Hydrogen, gaseous, 30 bar, from hard coa |   Hydrogen, gaseous, 30 bar    |            RER             |\n",
      "| adsorption and desorption unit, carbon d | adsorption and desorption unit |            RER             |\n",
      "| biogas upgrading - sewage sludge - amine | biogas upgrading - sewage slud |             CH             |\n",
      "|             Multilayer pouch             |        Multilayer pouch        |            GLO             |\n",
      "| softwood forestry, mixed species, sustai | softwood forestry, mixed speci |             CH             |\n",
      "|          Methanol distillation           |       Purified methanol        |            RER             |\n",
      "|           Clamps and fasteners           |      Clamps and fasteners      |            GLO             |\n",
      "|           Ni1/3Co1/3Mn1/3(OH)2           |      Ni1/3Co1/3Mn1/3(OH)2      |            GLO             |\n",
      "|     Carbon fibre, from acrylonitrile     | Carbon fibre, from acrylonitri |            GLO             |\n",
      "| Hydrogen, gaseous, 700 bar, from SMR of  |   Hydrogen, gaseous, 700 bar   |            RER             |\n",
      "|     Hydrogen refuelling station, SMR     | Hydrogen refuelling station, S |            GLO             |\n",
      "|            Cathode paste, NCA            |       Cathode paste, NCA       |             JP             |\n",
      "|            Battery cell, NMC             |          Battery cell          |            GLO             |\n",
      "|               Battery tray               |          Battery tray          |            GLO             |\n",
      "|           High voltage system            |      High voltage system       |            GLO             |\n",
      "| frequency converter, for diaphragm compr | frequency converter, for diaph |            GLO             |\n",
      "|                 Tie-rods                 |            Tie-rods            |            GLO             |\n",
      "|        Biodiesel from cooking oil        |   Biodiesel from cooking oil   |            RER             |\n",
      "|                Separator                 |           Separator            |            GLO             |\n",
      "| transport, pipeline, supercritical CO2,  | transport, pipeline, supercrit |            RER             |\n",
      "| Hydrogen, gaseous, 700 bar, from dual fl |   Hydrogen, gaseous, 700 bar   |             CH             |\n",
      "| Refined Waste Cooking Oil {RER} | Refini | Refined Waste Cooking Oil {RER |            RER             |\n",
      "| market for styrene butadiene rubber (SBR | styrene butadiene rubber (SBR) |            RER             |\n",
      "|           Heat transfer plate            |      Heat transfer plate       |            GLO             |\n",
      "|             Lower retention              |        Lower retention         |            GLO             |\n",
      "| ATR BM, with digestate incineration, 25  |   Hydrogen, gaseous, 25 bar    |             CH             |\n",
      "|     PEM electrolyzer, ACDC Converter     | PEM electrolyzer, ACDC Convert |            GLO             |\n",
      "|    Sabatier reaction methanation unit    | Sabatier reaction methanation  |            RER             |\n",
      "| NCA electrode material (LiNi0.8Co0.15Al0 | NCA electrode material (LiNi0. |             JP             |\n",
      "|                Tray seal                 |           Tray seal            |            GLO             |\n",
      "|      Negative current collector Cu       | Negative current collector Cu  |            GLO             |\n",
      "| Diesel production, synthetic, Fischer Tr |       Diesel, synthetic        |            RER             |\n",
      "|           End-busbar aluminum            |      End-busbar aluminum       |            GLO             |\n",
      "|              Ancillary BoP               |         Ancillary BoP          |            GLO             |\n",
      "|             Electrolyte, NCA             |        Electrolyte, NCA        |             JP             |\n",
      "|             Module fasteners             |        Module fasteners        |            GLO             |\n",
      "|             Anode paste, LFP             |        Anode paste, LFP        |             JP             |\n",
      "| SMR BM, HT+LT, + CCS (MDEA), 98 (average |   Hydrogen, gaseous, 26 bar    |             CH             |\n",
      "|          ethanol without biogas          |     ethanol without biogas     |            RER             |\n",
      "| Plant oil production | refining of crude | Plant oil production | refinin |            RER             |\n",
      "| Hydrogen, gaseous, 700 bar, from gasific |   Hydrogen, gaseous, 700 bar   |            RER             |\n",
      "|                Manifolds                 |           Manifolds            |            GLO             |\n",
      "| Methane production, synthetic, from elec |       Methane, synthetic       |            RER             |\n",
      "|              Bipolar plate               |         Bipolar plate          |            GLO             |\n",
      "|       Biodiesel from rapeseed oil        |  Biodiesel from rapeseed oil   |            RER             |\n",
      "| Hydrogen, gaseous, 25 bar, from gasifica |   Hydrogen, gaseous, 25 bar    |             CH             |\n",
      "| Wheat grain cultivation, drying and stor | Wheat grain cultivation, dryin |            RER             |\n",
      "| Hydrogen, gaseous, 25 bar, from dual flu |   Hydrogen, gaseous, 25 bar    |             CH             |\n",
      "|                Module lid                |           Module lid           |            GLO             |\n",
      "| Hydrogen, gaseous, 700 bar, from ATR of  |   Hydrogen, gaseous, 700 bar   |            RER             |\n",
      "|  algae harvesting| dry algae production  | algae harvesting| dry algae pr |            RER             |\n",
      "|                 Membrane                 |            Membrane            |            GLO             |\n",
      "|               Thermal pad                |          Thermal pad           |            GLO             |\n",
      "|         Syngas, RWGS, Production         |    Syngas, RWGS, Production    |            RER             |\n",
      "|            Battery cell, LFP             |          Battery cell          |            GLO             |\n",
      "| market for wood chips, wet, measured as  | wood chips, wet, measured as d |             SE             |\n",
      "|      carbon dioxide capture system       | carbon dioxide capture system  |            RER             |\n",
      "|        Ethanol from maize starch         |   Ethanol from maize starch    |            RER             |\n",
      "| softwood forestry, spruce, sustainable f | wood chips, wet, measured as d |             DE             |\n",
      "| SMR NG + CCS (MDEA), 98 (average), 700 b |     SMR NG + CCS, 700 bar      |             CH             |\n",
      "|       Anode current collector, LFP       |  Anode current collector, LFP  |             JP             |\n",
      "|    PEM electrolyzer, Balance of Plant    | PEM electrolyzer, Balance of P |            GLO             |\n",
      "|                   IBIS                   |              IBIS              |            GLO             |\n",
      "|          Glider lightweighting           |     Glider lightweighting      |            GLO             |\n",
      "| PEM electrolyzer, Operation and Maintena | PEM electrolyzer, Operation an |            RER             |\n",
      "| Hydrogen, gaseous, 25 bar, from electrol |   Hydrogen, gaseous, 25 bar    |            RER             |\n",
      "| Hydrogen, gaseous, 700 bar, from SMR of  |   Hydrogen, gaseous, 700 bar   |            RER             |\n",
      "| carbon dioxide, captured from atmosphere | carbon dioxide, captured from  |            RER             |\n",
      "|              Cooling system              |         Cooling system         |            GLO             |\n",
      "| softwood forestry, pine, sustainable for | wood chips, wet, measured as d |             DE             |\n",
      "|             SMR NG, 700 bar              |        SMR NG, 700 bar         |             CH             |\n",
      "|           Gas Diffusion Layer            |      Gas Diffusion Layer       |            GLO             |\n",
      "|                 Radiator                 |            Radiator            |            GLO             |\n",
      "| hardwood forestry, beech, sustainable fo | wood chips, wet, measured as d |             DE             |\n",
      "| Hydrogen, gaseous, 700 bar, from SMR of  |   Hydrogen, gaseous, 700 bar   |            RER             |\n",
      "| Gasoline production, synthetic, from met |      Gasoline, synthetic       |            RER             |\n",
      "|          Ethanol from sugarbeet          |     Ethanol from sugarbeet     |            RER             |\n",
      "|         PEM electrolyzer, Stack          |    PEM electrolyzer, Stack     |            GLO             |\n",
      "| heat exchanger, carbon dioxide capture p | heat exchanger, carbon dioxide |            RER             |\n",
      "|      Straw bales | baling of straw       | Straw bales | baling of straw  |            RER             |\n",
      "|           Biodiesel from algae           |      Biodiesel from algae      |            RER             |\n",
      "|               Inner frame                |          Inner frame           |            GLO             |\n",
      "|              PEM Fuel Cell               |         PEM Fuel Cell          |            GLO             |\n",
      "|             Module packaging             |        Module packaging        |            GLO             |\n",
      "|               Battery BoP                |          Battery BoP           |            GLO             |\n",
      "| biomethane from biogas upgrading - biowa |           biomethane           |             CH             |\n",
      "|        Ethanol from wheat grains         |   Ethanol from wheat grains    |            RER             |\n",
      "|                  Anode                   |             Anode              |            GLO             |\n",
      "|      Cathode current collector, NCA      | Cathode current collector, NCA |             JP             |\n",
      "| container, with pipes and fittings, for  | container, with pipes and fitt |            GLO             |\n",
      "| SMR BM, HT+LT, with digestate incinerati |   Hydrogen, gaseous, 26 bar    |             CH             |\n",
      "| Coating and curing, general manufacturin | Coating and curing, general ma |            GLO             |\n",
      "|             Anode paste, NCA             |        Anode paste, NCA        |             JP             |\n",
      "| softwood forestry, spruce, sustainable f | wood chips, wet, measured as d |             SE             |\n",
      "|   Disposal, hydrogen fuelling station    | Disposal, hydrogen fuelling st |            RER             |\n",
      "|          Weaving, carbon cloth           |     Weaving, carbon cloth      |            GLO             |\n",
      "|              SMR NG, 25 bar              |         SMR NG, 25 bar         |             CH             |\n",
      "|            Methanol Synthesis            |      Methanol, unpurified      |            RER             |\n",
      "|      pipeline, supercritical CO2/km      | pipeline, supercritical CO2/km |            RER             |\n",
      "| cooling unit, carbon dioxide capture pro | cooling unit, carbon dioxide c |            RER             |\n",
      "| market for wood chips, wet, measured as  | wood chips, wet, measured as d | Europe without Switzerland |\n",
      "| Sugar beet cultivation {RER} | sugar bee | Sugar beet cultivation {RER} | |            RER             |\n",
      "| Hydrogen, gaseous, 25 bar, from gasifica |   Hydrogen, gaseous, 25 bar    |            RER             |\n",
      "| ATR BM + CCS (MDEA), 98 (average), with  |   Hydrogen, gaseous, 25 bar    |             CH             |\n",
      "| Rapeseed cultivation {RER} | rapeseed pr | Rapeseed cultivation {RER} | r |            RER             |\n",
      "|        drilling, deep borehole/m         |   drilling, deep borehole/m    |            RER             |\n",
      "| hardwood forestry, mixed species, sustai | hardwood forestry, mixed speci |             CH             |\n",
      "|                 Cathode                  |            Cathode             |            GLO             |\n",
      "|         Positive active material         |    Positive active material    |            GLO             |\n",
      "|          Textile, carbon cloth           |     Textile, carbon cloth      |            GLO             |\n",
      "|                Tab Copper                |           Tab Copper           |            GLO             |\n",
      "|            Battery retention             |       Battery retention        |            GLO             |\n",
      "|                 Tray lid                 |            Tray lid            |            GLO             |\n",
      "|              ATR NG, 25 bar              |   Hydrogen, gaseous, 25 bar    |            RER             |\n",
      "|        Fixed bed reactor for RWGS        |       Fixed bed reactor        |            RER             |\n",
      "| Hydrogen dispenser, for gaseous hydrogen | Hydrogen dispenser, for gaseou |            GLO             |\n",
      "| electricity market for energy storage pr | electricity, low voltage, for  |             CN             |\n"
     ]
    },
    {
     "name": "stdout",
     "output_type": "stream",
     "text": [
      "+------------------------------------------+--------------------------------+----------------------------+\n"
     ]
    }
   ],
   "source": [
    "ndb = NewDatabase(\n",
    "            model=\"remind\", # <-- name of the IAM model\n",
    "            scenario=\"SSP2-Base\", # <-- name of the scenario\n",
    "            year=2028, # <-- year\n",
    "            source_db=\"ecoinvent 3.6 cutoff\", # <-- name of the database\n",
    "            source_version=3.6, # <-- version of ecoinvent\n",
    "            add_passenger_cars = {\"region\":[\"EUR\", \"USA\"]}, # <-- only for EU and US\n",
    "            add_trucks = {\"region\": [\"CHA\"]} # <-- only for China\n",
    "                 )"
   ]
  },
  {
   "cell_type": "markdown",
   "metadata": {},
   "source": [
    "### Fleet files\n",
    "\n",
    "A last word about passenger cars: it is possible to pass a fleet composition file to generate fleet average inventories and limit those to specific regions (here, the European region).\n",
    "\n",
    "**Important remark**: fleet avergae invenotries generation from fleet compoistion files works only with REMIND at the moment."
   ]
  },
  {
   "cell_type": "code",
   "execution_count": 7,
   "metadata": {
    "scrolled": true
   },
   "outputs": [
    {
     "name": "stdout",
     "output_type": "stream",
     "text": [
      "\n",
      "////////////////////// EXTRACTING SOURCE DATABASE ///////////////////////\n",
      "Getting activity data\n"
     ]
    },
    {
     "name": "stderr",
     "output_type": "stream",
     "text": [
      "100%|████████████████████████████████| 18121/18121 [00:00<00:00, 127059.33it/s]\n"
     ]
    },
    {
     "name": "stdout",
     "output_type": "stream",
     "text": [
      "Adding exchange data to activities\n"
     ]
    },
    {
     "name": "stderr",
     "output_type": "stream",
     "text": [
      "100%|███████████████████████████████| 615644/615644 [00:46<00:00, 13132.40it/s]\n"
     ]
    },
    {
     "name": "stdout",
     "output_type": "stream",
     "text": [
      "Filling out exchange data\n"
     ]
    },
    {
     "name": "stderr",
     "output_type": "stream",
     "text": [
      "100%|██████████████████████████████████| 18121/18121 [00:04<00:00, 4313.70it/s]\n"
     ]
    },
    {
     "name": "stdout",
     "output_type": "stream",
     "text": [
      "Set missing location of datasets to global scope.\n",
      "Set missing location of production exchanges to scope of dataset.\n",
      "Correct missing location of technosphere exchanges.\n",
      "Remove empty exchanges.\n",
      "\n",
      "/////////////////// IMPORTING ADDITIONAL INVENTORIES ////////////////////\n",
      "Extracted 1 worksheets in 0.15 seconds\n",
      "Extracted 1 worksheets in 0.53 seconds\n",
      "Applying strategy: migrate_datasets\n",
      "Applying strategy: migrate_exchanges\n",
      "Extracted 1 worksheets in 0.01 seconds\n",
      "Extracted 1 worksheets in 0.01 seconds\n",
      "Applying strategy: migrate_datasets\n",
      "Applying strategy: migrate_exchanges\n",
      "Extracted 1 worksheets in 0.01 seconds\n",
      "Extracted 1 worksheets in 0.01 seconds\n",
      "Applying strategy: migrate_datasets\n",
      "Applying strategy: migrate_exchanges\n",
      "Add fossil carbon dioxide storage for CCS technologies.\n",
      "Extracted 1 worksheets in 0.01 seconds\n",
      "Extracted 1 worksheets in 0.01 seconds\n",
      "Extracted 1 worksheets in 0.02 seconds\n",
      "Extracted 1 worksheets in 0.02 seconds\n",
      "Extracted 1 worksheets in 0.01 seconds\n",
      "Extracted 1 worksheets in 0.01 seconds\n",
      "Extracted 1 worksheets in 0.02 seconds\n",
      "Extracted 1 worksheets in 0.02 seconds\n",
      "Extracted 1 worksheets in 0.01 seconds\n",
      "Extracted 1 worksheets in 0.01 seconds\n",
      "Extracted 1 worksheets in 0.01 seconds\n",
      "Extracted 1 worksheets in 0.01 seconds\n",
      "Extracted 1 worksheets in 0.02 seconds\n",
      "Extracted 1 worksheets in 0.02 seconds\n",
      "Applying strategy: migrate_datasets\n",
      "Applying strategy: migrate_exchanges\n",
      "Extracted 1 worksheets in 0.04 seconds\n",
      "Extracted 1 worksheets in 0.04 seconds\n",
      "Extracted 1 worksheets in 0.01 seconds\n",
      "Extracted 1 worksheets in 0.01 seconds\n",
      "Extracted 1 worksheets in 0.02 seconds\n",
      "Extracted 1 worksheets in 0.02 seconds\n",
      "Extracted 1 worksheets in 0.01 seconds\n",
      "Extracted 1 worksheets in 0.01 seconds\n",
      "Extracted 1 worksheets in 0.04 seconds\n",
      "Extracted 1 worksheets in 0.04 seconds\n",
      "Extracted 1 worksheets in 0.02 seconds\n",
      "Extracted 1 worksheets in 0.02 seconds\n",
      "No REMIND region could be mapped to the following ISO alpha2 country codes: ['BV' 'HM' 'PM' 'TK']\n",
      "They will be skipped.\n",
      "Fleet information for 2028 is not available. We'll use 2025 instead.\n"
     ]
    },
    {
     "name": "stderr",
     "output_type": "stream",
     "text": [
      "C:\\Users\\sacchi_r\\AppData\\Local\\Continuum\\miniconda3\\envs\\coarse\\lib\\site-packages\\scipy\\sparse\\linalg\\dsolve\\linsolve.py:133: SparseEfficiencyWarning: spsolve requires A be CSC or CSR matrix format\n",
      "  SparseEfficiencyWarning)\n",
      "C:\\Users\\sacchi_r\\AppData\\Local\\Continuum\\miniconda3\\envs\\coarse\\lib\\site-packages\\scipy\\sparse\\linalg\\dsolve\\linsolve.py:133: SparseEfficiencyWarning: spsolve requires A be CSC or CSR matrix format\n",
      "  SparseEfficiencyWarning)\n"
     ]
    },
    {
     "name": "stdout",
     "output_type": "stream",
     "text": [
      "****************** IMPORTANT BACKGROUND PARAMETERS ******************\n",
      " * The country of use is EUR\n",
      " * Power and energy batteries produced in CN using NMC chemistry.\n",
      " * in 1996, % of renewable: 9.0%, GHG intensity per kWh: 587 g. CO2-eq.\n",
      " \t * in 1997, % of renewable: 10.0%, GHG intensity per kWh: 581 g. CO2-eq.\n",
      " \t * in 1998, % of renewable: 10.0%, GHG intensity per kWh: 576 g. CO2-eq.\n",
      " \t * in 1999, % of renewable: 10.0%, GHG intensity per kWh: 570 g. CO2-eq.\n",
      " \t * in 2000, % of renewable: 11.0%, GHG intensity per kWh: 564 g. CO2-eq.\n",
      " \t * in 2001, % of renewable: 11.0%, GHG intensity per kWh: 558 g. CO2-eq.\n",
      " \t * in 2002, % of renewable: 12.0%, GHG intensity per kWh: 552 g. CO2-eq.\n",
      " \t * in 2003, % of renewable: 12.0%, GHG intensity per kWh: 546 g. CO2-eq.\n",
      " \t * in 2004, % of renewable: 12.0%, GHG intensity per kWh: 540 g. CO2-eq.\n",
      " \t * in 2005, % of renewable: 13.0%, GHG intensity per kWh: 534 g. CO2-eq.\n",
      " \t * in 2006, % of renewable: 13.0%, GHG intensity per kWh: 528 g. CO2-eq.\n",
      " \t * in 2007, % of renewable: 14.0%, GHG intensity per kWh: 522 g. CO2-eq.\n",
      " \t * in 2008, % of renewable: 14.0%, GHG intensity per kWh: 516 g. CO2-eq.\n",
      " \t * in 2009, % of renewable: 14.0%, GHG intensity per kWh: 510 g. CO2-eq.\n",
      " \t * in 2010, % of renewable: 15.0%, GHG intensity per kWh: 504 g. CO2-eq.\n",
      " \t * in 2011, % of renewable: 16.0%, GHG intensity per kWh: 494 g. CO2-eq.\n",
      " \t * in 2012, % of renewable: 17.0%, GHG intensity per kWh: 484 g. CO2-eq.\n",
      " \t * in 2013, % of renewable: 18.0%, GHG intensity per kWh: 474 g. CO2-eq.\n",
      " \t * in 2014, % of renewable: 19.0%, GHG intensity per kWh: 465 g. CO2-eq.\n",
      " \t * in 2015, % of renewable: 20.0%, GHG intensity per kWh: 455 g. CO2-eq.\n",
      " \t * in 2016, % of renewable: 21.0%, GHG intensity per kWh: 453 g. CO2-eq.\n",
      " \t * in 2017, % of renewable: 21.0%, GHG intensity per kWh: 451 g. CO2-eq.\n",
      " \t * in 2018, % of renewable: 22.0%, GHG intensity per kWh: 448 g. CO2-eq.\n",
      " \t * in 2019, % of renewable: 22.0%, GHG intensity per kWh: 446 g. CO2-eq.\n",
      " \t * in 2020, % of renewable: 23.0%, GHG intensity per kWh: 444 g. CO2-eq.\n",
      " \t * in 2021, % of renewable: 23.0%, GHG intensity per kWh: 447 g. CO2-eq.\n",
      " \t * in 2022, % of renewable: 23.0%, GHG intensity per kWh: 451 g. CO2-eq.\n",
      " \t * in 2023, % of renewable: 23.0%, GHG intensity per kWh: 454 g. CO2-eq.\n",
      " \t * in 2024, % of renewable: 23.0%, GHG intensity per kWh: 458 g. CO2-eq.\n",
      " \t * in 2025, % of renewable: 23.0%, GHG intensity per kWh: 462 g. CO2-eq.\n",
      " * electrolysis is completed by smr - natural gas.\n",
      " \t * in 1996 _________________________________________ 0%\n",
      " \t * in 1997 _________________________________________ 0%\n",
      " \t * in 1998 _________________________________________ 0%\n",
      " \t * in 1999 _________________________________________ 0%\n",
      " \t * in 2000 _________________________________________ 0%\n",
      " \t * in 2001 _________________________________________ 0%\n",
      " \t * in 2002 _________________________________________ 0%\n",
      " \t * in 2003 _________________________________________ 0%\n",
      " \t * in 2004 _________________________________________ 0%\n",
      " \t * in 2005 _________________________________________ 0%\n",
      " \t * in 2006 _________________________________________ 0%\n",
      " \t * in 2007 _________________________________________ 0%\n",
      " \t * in 2008 _________________________________________ 0%\n",
      " \t * in 2009 _________________________________________ 0%\n",
      " \t * in 2010 _________________________________________ 0%\n",
      " \t * in 2011 _________________________________________ 0%\n",
      " \t * in 2012 _________________________________________ 0%\n",
      " \t * in 2013 _________________________________________ 0%\n",
      " \t * in 2014 _________________________________________ 0%\n",
      " \t * in 2015 _________________________________________ 0%\n",
      " \t * in 2016 _________________________________________ 0%\n",
      " \t * in 2017 _________________________________________ 0%\n",
      " \t * in 2018 _________________________________________ 0%\n",
      " \t * in 2019 _________________________________________ 0%\n",
      " \t * in 2020 _________________________________________ 0%\n",
      " \t * in 2021 _________________________________________ 0%\n",
      " \t * in 2022 _________________________________________ 0%\n",
      " \t * in 2023 _________________________________________ 0%\n",
      " \t * in 2024 _________________________________________ 0%\n",
      " \t * in 2025 _________________________________________ 0%\n",
      " * cng is completed by biogas - biowaste.\n",
      " \t * in 1996 _________________________________________ 0.0%\n",
      " \t * in 1997 _________________________________________ 0.0%\n",
      " \t * in 1998 _________________________________________ 0.0%\n",
      " \t * in 1999 _________________________________________ 0.0%\n",
      " \t * in 2000 _________________________________________ 0.0%\n",
      " \t * in 2001 _________________________________________ 0.0%\n",
      " \t * in 2002 _________________________________________ 0.0%\n",
      " \t * in 2003 _________________________________________ 0.0%\n",
      " \t * in 2004 _________________________________________ 0.0%\n",
      " \t * in 2005 _________________________________________ 0.0%\n",
      " \t * in 2006 _________________________________________ 0.0%\n",
      " \t * in 2007 _________________________________________ 0.0%\n",
      " \t * in 2008 _________________________________________ 0.0%\n",
      " \t * in 2009 _________________________________________ 0.0%\n",
      " \t * in 2010 _________________________________________ 0.0%\n",
      " \t * in 2011 _________________________________________ 0.0%\n",
      " \t * in 2012 _________________________________________ 0.0%\n",
      " \t * in 2013 _________________________________________ 0.0%\n",
      " \t * in 2014 _________________________________________ 0.0%\n",
      " \t * in 2015 _________________________________________ 0.0%\n",
      " \t * in 2016 _________________________________________ 0.0%\n",
      " \t * in 2017 _________________________________________ 0.0%\n",
      " \t * in 2018 _________________________________________ 0.0%\n",
      " \t * in 2019 _________________________________________ 0.0%\n",
      " \t * in 2020 _________________________________________ 0.0%\n",
      " \t * in 2021 _________________________________________ 0.0%\n",
      " \t * in 2022 _________________________________________ 0.0%\n",
      " \t * in 2023 _________________________________________ 0.0%\n",
      " \t * in 2024 _________________________________________ 0.0%\n",
      " \t * in 2025 _________________________________________ 0.0%\n",
      " * diesel is completed by biodiesel - cooking oil and synthetic diesel.\n",
      " \t * in 1996 _________________ 0.0% _________________ 0.0%\n",
      " \t * in 1997 _________________ 0.0% _________________ 0.0%\n",
      " \t * in 1998 _________________ 0.0% _________________ 0.0%\n",
      " \t * in 1999 _________________ 0.0% _________________ 0.0%\n",
      " \t * in 2000 _________________ 0.0% _________________ 0.0%\n",
      " \t * in 2001 _________________ 0.0% _________________ 0.0%\n",
      " \t * in 2002 _________________ 0.0% _________________ 0.0%\n",
      " \t * in 2003 _________________ 0.0% _________________ 0.0%\n",
      " \t * in 2004 _________________ 1.0% _________________ 0.0%\n",
      " \t * in 2005 _________________ 1.0% _________________ 0.0%\n",
      " \t * in 2006 _________________ 1.0% _________________ 0.0%\n",
      " \t * in 2007 _________________ 1.0% _________________ 0.0%\n",
      " \t * in 2008 _________________ 1.0% _________________ 0.0%\n",
      " \t * in 2009 _________________ 1.0% _________________ 0.0%\n",
      " \t * in 2010 _________________ 1.0% _________________ 0.0%\n",
      " \t * in 2011 _________________ 1.0% _________________ 0.0%\n",
      " \t * in 2012 _________________ 1.0% _________________ 0.0%\n",
      " \t * in 2013 _________________ 1.0% _________________ 0.0%\n",
      " \t * in 2014 _________________ 1.0% _________________ 0.0%\n",
      " \t * in 2015 _________________ 1.0% _________________ 0.0%\n",
      " \t * in 2016 _________________ 1.0% _________________ 0.0%\n",
      " \t * in 2017 _________________ 1.0% _________________ 0.0%\n",
      " \t * in 2018 _________________ 2.0% _________________ 0.0%\n",
      " \t * in 2019 _________________ 2.0% _________________ 0.0%\n",
      " \t * in 2020 _________________ 2.0% _________________ 0.0%\n",
      " \t * in 2021 _________________ 2.0% _________________ 0.0%\n",
      " \t * in 2022 _________________ 3.0% _________________ 0.0%\n",
      " \t * in 2023 _________________ 3.0% _________________ 0.0%\n",
      " \t * in 2024 _________________ 4.0% _________________ 0.0%\n",
      " \t * in 2025 _________________ 4.0% _________________ 0.0%\n",
      " * petrol is completed by bioethanol - wheat straw and synthetic gasoline.\n",
      " \t * in 1996 _________________ 0.0% _________________ 0.0%\n",
      " \t * in 1997 _________________ 0.0% _________________ 0.0%\n",
      " \t * in 1998 _________________ 0.0% _________________ 0.0%\n"
     ]
    },
    {
     "name": "stdout",
     "output_type": "stream",
     "text": [
      " \t * in 1999 _________________ 0.0% _________________ 0.0%\n",
      " \t * in 2000 _________________ 0.0% _________________ 0.0%\n",
      " \t * in 2001 _________________ 0.0% _________________ 0.0%\n",
      " \t * in 2002 _________________ 0.0% _________________ 0.0%\n",
      " \t * in 2003 _________________ 0.0% _________________ 0.0%\n",
      " \t * in 2004 _________________ 1.0% _________________ 0.0%\n",
      " \t * in 2005 _________________ 1.0% _________________ 0.0%\n",
      " \t * in 2006 _________________ 1.0% _________________ 0.0%\n",
      " \t * in 2007 _________________ 1.0% _________________ 0.0%\n",
      " \t * in 2008 _________________ 1.0% _________________ 0.0%\n",
      " \t * in 2009 _________________ 1.0% _________________ 0.0%\n",
      " \t * in 2010 _________________ 1.0% _________________ 0.0%\n",
      " \t * in 2011 _________________ 1.0% _________________ 0.0%\n",
      " \t * in 2012 _________________ 1.0% _________________ 0.0%\n",
      " \t * in 2013 _________________ 1.0% _________________ 0.0%\n",
      " \t * in 2014 _________________ 1.0% _________________ 0.0%\n",
      " \t * in 2015 _________________ 1.0% _________________ 0.0%\n",
      " \t * in 2016 _________________ 1.0% _________________ 0.0%\n",
      " \t * in 2017 _________________ 1.0% _________________ 0.0%\n",
      " \t * in 2018 _________________ 2.0% _________________ 0.0%\n",
      " \t * in 2019 _________________ 2.0% _________________ 0.0%\n",
      " \t * in 2020 _________________ 2.0% _________________ 0.0%\n",
      " \t * in 2021 _________________ 2.0% _________________ 0.0%\n",
      " \t * in 2022 _________________ 3.0% _________________ 0.0%\n",
      " \t * in 2023 _________________ 3.0% _________________ 0.0%\n",
      " \t * in 2024 _________________ 4.0% _________________ 0.0%\n",
      " \t * in 2025 _________________ 4.0% _________________ 0.0%\n",
      " * *********************************************************************\n",
      "Building fleet average vehicles...\n"
     ]
    },
    {
     "name": "stderr",
     "output_type": "stream",
     "text": [
      "0% [##############################] 100% | ETA: 00:00:00 | Item ID: 2822\n",
      "Total time elapsed: 00:00:05\n"
     ]
    },
    {
     "name": "stdout",
     "output_type": "stream",
     "text": [
      "The following datasets to import already exist in the source database. They will not be imported\n",
      "+------------------------------------------+--------------------------------+----------------------------+\n",
      "|                   Name                   |       Reference product        |          Location          |\n",
      "+------------------------------------------+--------------------------------+----------------------------+\n",
      "| Hydrogen, gaseous, 25 bar, from dual flu |   Hydrogen, gaseous, 25 bar    |             CH             |\n",
      "| Hydrogen, gaseous, 700 bar, from gasific |   Hydrogen, gaseous, 700 bar   |             CH             |\n",
      "| hardwood forestry, oak, sustainable fore | wood chips, wet, measured as d |             DE             |\n",
      "| production of 2 wt-% potassium iodide so | production of 2 wt-% potassium |            RER             |\n",
      "| Hydrogen, gaseous, 700 bar, from ATR of  |   Hydrogen, gaseous, 700 bar   |            RER             |\n",
      "| transport, pipeline, supercritical CO2,  | transport, pipeline, supercrit |            RER             |\n",
      "| storage module, high pressure, at fuelli | storage module, high pressure, |            GLO             |\n",
      "| market for wood chips, wet, measured as  | wood chips, wet, measured as d |             CH             |\n",
      "|        Carbon monoxide, from RWGS        |   Carbon monoxide, from RWGS   |            RER             |\n",
      "|         Biodiesel from palm oil          |    Biodiesel from palm oil     |            RER             |\n",
      "| Maize cultivation, drying and storage {R | Maize cultivation, drying and  |            RER             |\n",
      "| diaphragm compressor module, high pressu | diaphragm compressor module, h |            GLO             |\n",
      "|  MTG production facility, construction   | MTG production facility, const |            RER             |\n",
      "| softwood forestry, pine, sustainable for | wood chips, wet, measured as d |             SE             |\n",
      "|          RWGS tank construction          |     RWGS tank construction     |            GLO             |\n",
      "| Hydrogen, gaseous, 700 bar, from SMR of  |   Hydrogen, gaseous, 700 bar   |            RER             |\n",
      "| market for wood chips, wet, measured as  | wood chips, wet, measured as d |             DE             |\n",
      "| Hydrogen, gaseous, 700 bar, from dual fl |   Hydrogen, gaseous, 700 bar   |            RER             |\n",
      "|              RWGS catalyst               |         RWGS catalyst          |            RER             |\n",
      "| Hydrogen, gaseous, 25 bar, from gasifica |   Hydrogen, gaseous, 25 bar    |             CH             |\n",
      "| control panel, carbon dioxide capture pr | control panel, carbon dioxide  |            RER             |\n",
      "| wiring and tubing, carbon dioxide captur | wiring and tubing, carbon diox |            RER             |\n",
      "| Diesel production, synthetic, Fischer Tr |       Diesel, synthetic        |            RER             |\n",
      "|   diaphragms, for diaphragm compressor   | diaphragms, for diaphragm comp |            GLO             |\n",
      "| Hydrogen, gaseous, 700 bar, from gasific |   Hydrogen, gaseous, 700 bar   |            RER             |\n",
      "|       Ethanol from forest residues       |  Ethanol from forest residues  |            RER             |\n",
      "| hardwood forestry, birch, sustainable fo | wood chips, wet, measured as d |             SE             |\n",
      "| Crude Palm Oil extraction from FFBs {RER | Crude Palm Oil extraction from |            RER             |\n",
      "| Hydrogen, gaseous, 700 bar, from dual fl |   Hydrogen, gaseous, 700 bar   |            RER             |\n",
      "| Crude vegetable oil | oil mill: extracti | Crude vegetable oil | oil mill |            RER             |\n",
      "|               Buffer tank                |          Buffer tank           |            GLO             |\n",
      "| ATR NG + CCS (MDEA), 98 (average), 25 ba |   Hydrogen, gaseous, 25 bar    |            RER             |\n",
      "| Hydrogen, gaseous, 700 bar, ATR of NG, w |   Hydrogen, gaseous, 700 bar   |            RER             |\n",
      "| Plant oil from crude oil | refining of v | Plant oil from crude oil | ref |            RER             |\n",
      "| Hydrogen, gaseous, 700 bar, from gasific |   Hydrogen, gaseous, 700 bar   |             CH             |\n",
      "| production of nickle-based catalyst for  | production of nickle-based cat |            RER             |\n",
      "| Walls and foundations, for hydrogen refu | Walls and foundations, for hyd |            RER             |\n",
      "| CO2 storage/at H2 production plant, pre, | CO2 storage/at H2 production p |            RER             |\n",
      "| Hydrogen, gaseous, 700 bar, ATR of NG, a |   Hydrogen, gaseous, 700 bar   |            RER             |\n",
      "| hot water tank, carbon dioxide capture p | hot water tank, carbon dioxide |            RER             |\n",
      "| Hydrogen, gaseous, 25 bar, from dual flu |   Hydrogen, gaseous, 25 bar    |            RER             |\n",
      "| algae cultivation | algae broth producti | algae cultivation | algae brot |            RER             |\n",
      "| Hydrogen, gaseous, 700 bar, from dual fl |   Hydrogen, gaseous, 700 bar   |             CH             |\n",
      "| Hydrogen, gaseous, 25 bar, from dual flu |   Hydrogen, gaseous, 25 bar    |            RER             |\n",
      "| Hydrogen, gaseous, 700 bar, from electro |   Hydrogen, gaseous, 700 bar   |            RER             |\n",
      "|              straw pellets               |         straw pellets          |            RER             |\n",
      "| Oil Palm Tree Cultivation {RER} | Fresh  | Oil Palm Tree Cultivation {RER |            RER             |\n",
      "|     Gas-to-liquid plant construction     |      Gas-to-liquid plant       |            GLO             |\n",
      "| transformer and rectifier unit, for elec | transformer and rectifier unit |            GLO             |\n",
      "|     Ethanol from wheat straw pellets     | Ethanol from wheat straw pelle |            RER             |\n",
      "| Hydrogen, gaseous, 25 bar, from gasifica |   Hydrogen, gaseous, 25 bar    |            RER             |\n",
      "|     woodchips from forestry residues     | woodchips from forestry residu |            RER             |\n",
      "| SMR NG + CCS (MDEA), 98 (average), 25 ba |   Hydrogen, gaseous, 25 bar    |             CH             |\n",
      "|  pumps, carbon dioxide capture process   | pumps, carbon dioxide capture  |            RER             |\n",
      "| Hydrogen, gaseous, 30 bar, from hard coa |   Hydrogen, gaseous, 30 bar    |            RER             |\n",
      "| adsorption and desorption unit, carbon d | adsorption and desorption unit |            RER             |\n",
      "| softwood forestry, mixed species, sustai | softwood forestry, mixed speci |             CH             |\n",
      "|          Methanol distillation           |       Purified methanol        |            RER             |\n",
      "| Hydrogen, gaseous, 700 bar, from SMR of  |   Hydrogen, gaseous, 700 bar   |            RER             |\n",
      "|     Hydrogen refuelling station, SMR     | Hydrogen refuelling station, S |            GLO             |\n",
      "| frequency converter, for diaphragm compr | frequency converter, for diaph |            GLO             |\n",
      "|        Biodiesel from cooking oil        |   Biodiesel from cooking oil   |            RER             |\n",
      "| transport, pipeline, supercritical CO2,  | transport, pipeline, supercrit |            RER             |\n",
      "| Hydrogen, gaseous, 700 bar, from dual fl |   Hydrogen, gaseous, 700 bar   |             CH             |\n",
      "| Refined Waste Cooking Oil {RER} | Refini | Refined Waste Cooking Oil {RER |            RER             |\n",
      "| ATR BM, with digestate incineration, 25  |   Hydrogen, gaseous, 25 bar    |             CH             |\n",
      "|     PEM electrolyzer, ACDC Converter     | PEM electrolyzer, ACDC Convert |            GLO             |\n",
      "|    Sabatier reaction methanation unit    | Sabatier reaction methanation  |            RER             |\n",
      "| Diesel production, synthetic, Fischer Tr |       Diesel, synthetic        |            RER             |\n",
      "| SMR BM, HT+LT, + CCS (MDEA), 98 (average |   Hydrogen, gaseous, 26 bar    |             CH             |\n",
      "| Plant oil production | refining of crude | Plant oil production | refinin |            RER             |\n",
      "|          ethanol without biogas          |     ethanol without biogas     |            RER             |\n",
      "| Hydrogen, gaseous, 700 bar, from gasific |   Hydrogen, gaseous, 700 bar   |            RER             |\n",
      "|       Biodiesel from rapeseed oil        |  Biodiesel from rapeseed oil   |            RER             |\n",
      "| Hydrogen, gaseous, 25 bar, from gasifica |   Hydrogen, gaseous, 25 bar    |             CH             |\n",
      "| Wheat grain cultivation, drying and stor | Wheat grain cultivation, dryin |            RER             |\n",
      "| Hydrogen, gaseous, 25 bar, from dual flu |   Hydrogen, gaseous, 25 bar    |             CH             |\n",
      "| Hydrogen, gaseous, 700 bar, from ATR of  |   Hydrogen, gaseous, 700 bar   |            RER             |\n",
      "|  algae harvesting| dry algae production  | algae harvesting| dry algae pr |            RER             |\n",
      "|         Syngas, RWGS, Production         |    Syngas, RWGS, Production    |            RER             |\n",
      "| market for wood chips, wet, measured as  | wood chips, wet, measured as d |             SE             |\n",
      "|      carbon dioxide capture system       | carbon dioxide capture system  |            RER             |\n",
      "|        Ethanol from maize starch         |   Ethanol from maize starch    |            RER             |\n",
      "| softwood forestry, spruce, sustainable f | wood chips, wet, measured as d |             DE             |\n",
      "| SMR NG + CCS (MDEA), 98 (average), 700 b |     SMR NG + CCS, 700 bar      |             CH             |\n",
      "|    PEM electrolyzer, Balance of Plant    | PEM electrolyzer, Balance of P |            GLO             |\n",
      "| PEM electrolyzer, Operation and Maintena | PEM electrolyzer, Operation an |            RER             |\n",
      "| Hydrogen, gaseous, 25 bar, from electrol |   Hydrogen, gaseous, 25 bar    |            RER             |\n",
      "| Hydrogen, gaseous, 700 bar, from SMR of  |   Hydrogen, gaseous, 700 bar   |            RER             |\n",
      "| carbon dioxide, captured from atmosphere | carbon dioxide, captured from  |            RER             |\n",
      "| softwood forestry, pine, sustainable for | wood chips, wet, measured as d |             DE             |\n",
      "|             SMR NG, 700 bar              |        SMR NG, 700 bar         |             CH             |\n",
      "| hardwood forestry, beech, sustainable fo | wood chips, wet, measured as d |             DE             |\n",
      "| Hydrogen, gaseous, 700 bar, from SMR of  |   Hydrogen, gaseous, 700 bar   |            RER             |\n",
      "| Gasoline production, synthetic, from met |      Gasoline, synthetic       |            RER             |\n",
      "|          Ethanol from sugarbeet          |     Ethanol from sugarbeet     |            RER             |\n",
      "|      Straw bales | baling of straw       | Straw bales | baling of straw  |            RER             |\n",
      "| heat exchanger, carbon dioxide capture p | heat exchanger, carbon dioxide |            RER             |\n",
      "|         PEM electrolyzer, Stack          |    PEM electrolyzer, Stack     |            GLO             |\n",
      "|           Biodiesel from algae           |      Biodiesel from algae      |            RER             |\n",
      "|        Ethanol from wheat grains         |   Ethanol from wheat grains    |            RER             |\n",
      "| SMR BM, HT+LT, with digestate incinerati |   Hydrogen, gaseous, 26 bar    |             CH             |\n",
      "| container, with pipes and fittings, for  | container, with pipes and fitt |            GLO             |\n",
      "| softwood forestry, spruce, sustainable f | wood chips, wet, measured as d |             SE             |\n",
      "|   Disposal, hydrogen fuelling station    | Disposal, hydrogen fuelling st |            RER             |\n",
      "|              SMR NG, 25 bar              |         SMR NG, 25 bar         |             CH             |\n",
      "|            Methanol Synthesis            |      Methanol, unpurified      |            RER             |\n",
      "|      pipeline, supercritical CO2/km      | pipeline, supercritical CO2/km |            RER             |\n",
      "| cooling unit, carbon dioxide capture pro | cooling unit, carbon dioxide c |            RER             |\n",
      "| market for wood chips, wet, measured as  | wood chips, wet, measured as d | Europe without Switzerland |\n",
      "| Sugar beet cultivation {RER} | sugar bee | Sugar beet cultivation {RER} | |            RER             |\n",
      "| ATR BM + CCS (MDEA), 98 (average), with  |   Hydrogen, gaseous, 25 bar    |             CH             |\n",
      "| Hydrogen, gaseous, 25 bar, from gasifica |   Hydrogen, gaseous, 25 bar    |            RER             |\n",
      "| Rapeseed cultivation {RER} | rapeseed pr | Rapeseed cultivation {RER} | r |            RER             |\n",
      "|        drilling, deep borehole/m         |   drilling, deep borehole/m    |            RER             |\n",
      "| hardwood forestry, mixed species, sustai | hardwood forestry, mixed speci |             CH             |\n",
      "|              ATR NG, 25 bar              |   Hydrogen, gaseous, 25 bar    |            RER             |\n",
      "|        Fixed bed reactor for RWGS        |       Fixed bed reactor        |            RER             |\n",
      "| Hydrogen dispenser, for gaseous hydrogen | Hydrogen dispenser, for gaseou |            GLO             |\n"
     ]
    },
    {
     "name": "stdout",
     "output_type": "stream",
     "text": [
      "+------------------------------------------+--------------------------------+----------------------------+\n"
     ]
    }
   ],
   "source": [
    "ndb = NewDatabase(\n",
    "            model=\"remind\",\n",
    "            scenario=\"SSP2-Base\", \n",
    "            year=2028,\n",
    "            source_db=\"ecoinvent 3.6 cutoff\",\n",
    "            source_version=3.6, \n",
    "            add_passenger_cars={\n",
    "                \"fleet file\": r\"C:\\Users\\sacchi_r\\Downloads\\REMIND\\Budg1100_ConvSyn_vintcomp.csv\", # <-- this is NEW\n",
    "                \"region\": [\"EUR\"]\n",
    "        },\n",
    "     )"
   ]
  },
  {
   "cell_type": "markdown",
   "metadata": {},
   "source": [
    "# Use case with ecospold2\n",
    "\n",
    "The source database does not have to be from a brightway2 project.\n",
    "It can be directly extracted from the bunch of ecospold2 files one gets when downloaded from the [ecoinvent website](https://ecoinvent.org).\n",
    "\n",
    "For this, one needs to specify the argument `source_db = \"ecospold\"` as well as `source_file_path`, which is the directory leading to the ecospold files.\n",
    "\n",
    "For example, here we combine the use of a specific (non-default) IAM scenario file with the use of ecospold2 files as data source (ecoinvent 3.5 in this case)."
   ]
  },
  {
   "cell_type": "code",
   "execution_count": 3,
   "metadata": {},
   "outputs": [
    {
     "name": "stdout",
     "output_type": "stream",
     "text": [
      "\n",
      "////////////////////// EXTRACTING SOURCE DATABASE ///////////////////////\n",
      "Extracting XML data from 16022 datasets\n",
      "Extracted 16022 datasets in 59.54 seconds\n",
      "Applying strategy: normalize_units\n",
      "Applying strategy: update_ecoinvent_locations\n",
      "Applying strategy: remove_zero_amount_coproducts\n",
      "Applying strategy: remove_zero_amount_inputs_with_no_activity\n",
      "Applying strategy: remove_unnamed_parameters\n",
      "Applying strategy: es2_assign_only_product_with_amount_as_reference_product\n",
      "Applying strategy: assign_single_product_as_activity\n",
      "Applying strategy: create_composite_code\n",
      "Applying strategy: drop_unspecified_subcategories\n",
      "Applying strategy: fix_ecoinvent_flows_pre35\n",
      "Applying strategy: drop_temporary_outdated_biosphere_flows\n",
      "Applying strategy: link_biosphere_by_flow_uuid\n",
      "Applying strategy: link_internal_technosphere_by_composite_code\n",
      "Applying strategy: delete_exchanges_missing_activity\n",
      "Applying strategy: delete_ghost_exchanges\n",
      "Applying strategy: remove_uncertainty_from_negative_loss_exchanges\n",
      "Applying strategy: fix_unreasonably_high_lognormal_uncertainties\n",
      "Applying strategy: set_lognormal_loc_value\n",
      "Applying strategy: convert_activity_parameters_to_list\n",
      "Applying strategy: add_cpc_classification_from_single_reference_product\n",
      "Applied 20 strategies in 6.52 seconds\n",
      "Set missing location of datasets to global scope.\n",
      "Set missing location of production exchanges to scope of dataset.\n",
      "Correct missing location of technosphere exchanges.\n",
      "Remove empty exchanges.\n",
      "\n",
      "/////////////////// IMPORTING ADDITIONAL INVENTORIES ////////////////////\n",
      "Extracted 1 worksheets in 0.14 seconds\n",
      "Extracted 1 worksheets in 0.13 seconds\n",
      "Add fossil carbon dioxide storage for CCS technologies.\n",
      "Extracted 1 worksheets in 0.01 seconds\n",
      "Extracted 1 worksheets in 0.01 seconds\n",
      "Add fossil carbon dioxide storage for CCS technologies.\n",
      "Extracted 1 worksheets in 0.02 seconds\n",
      "Extracted 1 worksheets in 0.01 seconds\n",
      "Applying strategy: migrate_datasets\n",
      "Applying strategy: migrate_exchanges\n",
      "Extracted 1 worksheets in 0.02 seconds\n",
      "Extracted 1 worksheets in 0.02 seconds\n",
      "Applying strategy: migrate_datasets\n",
      "Applying strategy: migrate_exchanges\n",
      "Extracted 1 worksheets in 0.01 seconds\n",
      "Extracted 1 worksheets in 0.01 seconds\n",
      "Applying strategy: migrate_datasets\n",
      "Applying strategy: migrate_exchanges\n",
      "Extracted 1 worksheets in 0.03 seconds\n",
      "Extracted 1 worksheets in 0.02 seconds\n",
      "Applying strategy: migrate_datasets\n",
      "Applying strategy: migrate_exchanges\n",
      "Extracted 1 worksheets in 0.02 seconds\n",
      "Extracted 1 worksheets in 0.01 seconds\n",
      "Applying strategy: migrate_datasets\n",
      "Applying strategy: migrate_exchanges\n",
      "Extracted 1 worksheets in 0.03 seconds\n",
      "Extracted 1 worksheets in 0.04 seconds\n",
      "Applying strategy: migrate_datasets\n",
      "Applying strategy: migrate_exchanges\n",
      "Extracted 1 worksheets in 0.05 seconds\n",
      "Extracted 1 worksheets in 0.05 seconds\n",
      "Extracted 1 worksheets in 0.02 seconds\n",
      "Extracted 1 worksheets in 0.03 seconds\n",
      "Extracted 1 worksheets in 0.01 seconds\n",
      "Extracted 1 worksheets in 0.01 seconds\n",
      "Applying strategy: migrate_datasets\n",
      "Applying strategy: migrate_exchanges\n",
      "Extracted 1 worksheets in 0.02 seconds\n",
      "Extracted 1 worksheets in 0.03 seconds\n",
      "Extracted 1 worksheets in 0.01 seconds\n",
      "Extracted 1 worksheets in 0.01 seconds\n",
      "Extracted 1 worksheets in 0.01 seconds\n",
      "Extracted 1 worksheets in 0.01 seconds\n",
      "Extracted 1 worksheets in 0.02 seconds\n",
      "Extracted 1 worksheets in 0.03 seconds\n",
      "Applying strategy: migrate_datasets\n",
      "Applying strategy: migrate_exchanges\n"
     ]
    }
   ],
   "source": [
    "ndb = NewDatabase(\n",
    "        model=\"remind\",\n",
    "        scenario=\"my_special_scenario\",\n",
    "        year=2028, # <-- year\n",
    "        source_type=\"ecospold\", # <--- this is NEW\n",
    "        source_file_path=r\"C:\\Users\\sacchi_r\\Dropbox\\Public\\ecoinvent 3.5_cutoff_ecoSpold02\\datasets\", # <-- this is NEW\n",
    "        source_version=3.5,\n",
    "        filepath_to_iam_files=r\"C:\\Users\\sacchi_r\\Downloads\\REMIND\", # <-- directory of specific IAM scenario files\n",
    "             )"
   ]
  },
  {
   "cell_type": "markdown",
   "metadata": {},
   "source": [
    "# Transformation functions\n",
    "\n",
    "These functions modify the extracted database:\n",
    "\n",
    "* **update_electricity_to_iam_data()**: alignment of regional electricity production mixes as well as efficiencies for a number of\n",
    "  electricity production technologies, including Carbon Capture and Storage technologies.\n",
    "* **update_vehicles()**: fuel markets that supply transport vehicles are adjusted according to the IAM projections,\n",
    "  including penetration of bio- and synthetic fuels.\n",
    "* **update_cement_to_iam_data()**: adjustment of technologies for cement production (dry, semi-dry, wet, with pre-heater or not),\n",
    "  fuel efficiency of kilns, fuel mix of kilns (including biomass and waste fuels) and clinker-to-cement ratio.\n",
    "* **update_steel_to_iam_data()**: adjustment of process efficiency, fuel mix and share of secondary steel in steel markets.\n",
    "\n",
    "They can be applied *separately*, *consecutively* or *altogether* (using instead **.update_all()**)."
   ]
  },
  {
   "cell_type": "code",
   "execution_count": 5,
   "metadata": {},
   "outputs": [
    {
     "name": "stdout",
     "output_type": "stream",
     "text": [
      "\n",
      "/////////////////// ELECTRICITY ////////////////////\n",
      "Remove old electricity datasets\n",
      "Create high voltage markets.\n",
      "Create medium voltage markets.\n",
      "Create low voltage markets.\n",
      "Link activities to new electricity markets.\n",
      "Log of deleted electricity markets saved in C:\\Users\\sacchi_r\\Documents\\GitHub\\premise\\premise\\data\\logs\n",
      "Log of created electricity markets saved in C:\\Users\\sacchi_r\\Documents\\GitHub\\premise\\premise\\data\\logs\n",
      "Log of changes in power plants efficiencies saved in C:\\Users\\sacchi_r\\Documents\\GitHub\\premise\\premise\\data\\logs\n",
      "Rescale inventories and emissions for Biomass IGCC CCS\n",
      "Rescale inventories and emissions for Biomass CHP\n",
      "Rescale inventories and emissions for Biomass IGCC\n",
      "Rescale inventories and emissions for Coal IGCC\n",
      "Rescale inventories and emissions for Coal IGCC CCS\n",
      "Rescale inventories and emissions for Coal PC\n",
      "Rescale inventories and emissions for Coal PC CCS\n",
      "Rescale inventories and emissions for Coal CHP\n",
      "Rescale inventories and emissions for Gas OC\n",
      "Rescale inventories and emissions for Gas CC\n",
      "Rescale inventories and emissions for Gas CHP\n",
      "Rescale inventories and emissions for Gas CC CCS\n",
      "Rescale inventories and emissions for Oil ST\n",
      "\n",
      "/////////////////// CEMENT ////////////////////\n",
      "\n",
      "Start integration of cement data...\n",
      "\n",
      "The validity of the datasets produced from the integration of the cement sector is not yet fully tested.\n",
      "Consider the results with caution.\n",
      "\n",
      "Log of deleted cement datasets saved in C:\\Users\\sacchi_r\\Documents\\GitHub\\premise\\premise\\data\\logs\n",
      "Log of created cement datasets saved in C:\\Users\\sacchi_r\\Documents\\GitHub\\premise\\premise\\data\\logs\n",
      "Adjust clinker-to-cement ratio in \"unspecified cement\" datasets\n",
      "\n",
      "Create new cement production datasets and adjust electricity consumption\n",
      "\n",
      "Create new cement market datasets\n"
     ]
    },
    {
     "name": "stderr",
     "output_type": "stream",
     "text": [
      "WARNING:root:North America  not found in regex\n",
      "WARNING:root:North America  not found in regex\n",
      "WARNING:root:North America  not found in regex\n",
      "WARNING:root:North America  not found in regex\n",
      "WARNING:root:North America  not found in regex\n"
     ]
    },
    {
     "name": "stdout",
     "output_type": "stream",
     "text": [
      "\n",
      "Create new clinker production datasets and delete old datasets\n",
      "\n",
      "Create new clinker market datasets and delete old datasets\n",
      "Relink cement market datasets to new cement production datasets\n",
      "Relink activities to new cement datasets\n",
      "Relink cement production datasets to new clinker market datasets\n",
      "Relink clinker market datasets to new clinker production datasets\n",
      "\n",
      "/////////////////// STEEL ////////////////////\n",
      "The IAM scenario chosen does not contain any data related to the steel sector.\n",
      "Transformations related to the steel sector will be skipped.\n"
     ]
    }
   ],
   "source": [
    "ndb.update_all()"
   ]
  },
  {
   "cell_type": "markdown",
   "metadata": {},
   "source": [
    "# Export"
   ]
  },
  {
   "cell_type": "markdown",
   "metadata": {},
   "source": [
    "### As a Brightway2 database"
   ]
  },
  {
   "cell_type": "markdown",
   "metadata": {},
   "source": [
    "Export the modified database to brightway2"
   ]
  },
  {
   "cell_type": "code",
   "execution_count": null,
   "metadata": {},
   "outputs": [],
   "source": [
    "ndb.write_db_to_brightway()"
   ]
  },
  {
   "cell_type": "markdown",
   "metadata": {},
   "source": [
    "### As a sparse matrix representation"
   ]
  },
  {
   "cell_type": "markdown",
   "metadata": {},
   "source": [
    "Or export it as a sparse matrix representation.\n",
    "\n",
    "This will export four files:\n",
    "\n",
    "* \"A_matrix.csv\": matrix coordinates and values of shape (index of activity; index of product; value) for the technosphere\n",
    "* \"A_matrix_index.csv\": labels for indices for A matrix of shape (name of activity, reference product, unit, location, index)\n",
    "* \"B_matrix.csv\": matrix coordinates and values of shape (index of activity; index of biosphere flow; value) for the biosphere\n",
    "* \"B_matrix_index.csv\": labels for indices for B matrix of shape (name of biosphere flow, main compartment, sub-compartmnet, unit, index)\n",
    "\n",
    "As a convenience, you can specifiy a directory where to store the exported matrices.\n",
    "If the directory does not exist, it will be created.\n",
    "If you leave it unspecified, they will be stored in **data/matrices** in the root folder of the library."
   ]
  },
  {
   "cell_type": "code",
   "execution_count": 7,
   "metadata": {},
   "outputs": [
    {
     "name": "stdout",
     "output_type": "stream",
     "text": [
      "Write new database to matrix.\n",
      "Matrices saved in C:\\Users\\sacchi_r\\Downloads\\exported_matrices\\remind\\SSP2-Base\\2028.\n"
     ]
    }
   ],
   "source": [
    "ndb.write_db_to_matrices(filepath=r\"C:/Users/sacchi_r/Downloads/exported_matrices\")"
   ]
  },
  {
   "cell_type": "markdown",
   "metadata": {},
   "source": [
    "### As a SimaPro CSV file"
   ]
  },
  {
   "cell_type": "code",
   "execution_count": 5,
   "metadata": {},
   "outputs": [
    {
     "name": "stdout",
     "output_type": "stream",
     "text": [
      "Write Simapro import file.\n",
      "Simapro CSV files saved in C:\\Users\\sacchi_r\\Downloads\\exported_simapro_file\\remind\\SSP2-Base\\2028.\n"
     ]
    }
   ],
   "source": [
    "ndb.write_db_to_simapro(filepath=r\"C:/Users/sacchi_r/Downloads/exported_simapro_file\")"
   ]
  },
  {
   "cell_type": "code",
   "execution_count": null,
   "metadata": {},
   "outputs": [],
   "source": []
  }
 ],
 "metadata": {
  "kernelspec": {
   "display_name": "Python 3",
   "language": "python",
   "name": "python3"
  },
  "language_info": {
   "codemirror_mode": {
    "name": "ipython",
    "version": 3
   },
   "file_extension": ".py",
   "mimetype": "text/x-python",
   "name": "python",
   "nbconvert_exporter": "python",
   "pygments_lexer": "ipython3",
   "version": "3.7.3"
  }
 },
 "nbformat": 4,
 "nbformat_minor": 2
}
